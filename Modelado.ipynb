{
 "cells": [
  {
   "cell_type": "code",
   "execution_count": 1,
   "id": "a7f818dd",
   "metadata": {},
   "outputs": [
    {
     "name": "stderr",
     "output_type": "stream",
     "text": [
      "2023-04-05 09:41:44.605944: I tensorflow/core/platform/cpu_feature_guard.cc:193] This TensorFlow binary is optimized with oneAPI Deep Neural Network Library (oneDNN) to use the following CPU instructions in performance-critical operations:  SSE4.1 SSE4.2 AVX AVX2 FMA\n",
      "To enable them in other operations, rebuild TensorFlow with the appropriate compiler flags.\n"
     ]
    }
   ],
   "source": [
    "from sklearn.svm import SVC\n",
    "from sklearn.model_selection import train_test_split\n",
    "from xgboost import XGBClassifier\n",
    "from sklearn.metrics import accuracy_score\n",
    "from sklearn.ensemble import RandomForestClassifier\n",
    "from tensorflow import keras\n",
    "from tensorflow.keras import layers\n",
    "from sklearn.model_selection import GridSearchCV\n",
    "from sklearn.naive_bayes import GaussianNB\n",
    "from sklearn.metrics import confusion_matrix\n",
    "from sklearn import metrics"
   ]
  },
  {
   "cell_type": "code",
   "execution_count": 2,
   "id": "735b564e",
   "metadata": {},
   "outputs": [],
   "source": [
    "import pandas as pd\n",
    "import numpy as np\n",
    "import matplotlib.pyplot as plt\n",
    "import seaborn as sns"
   ]
  },
  {
   "cell_type": "code",
   "execution_count": null,
   "id": "e9e670f8",
   "metadata": {},
   "outputs": [],
   "source": [
    "ml_scores=pd.DataFrame({'Dataset':['DS1','DS1','DS1','DS1','DS2','DS2','DS2','DS2','DS3','DS3','DS3','DS3'], 'Method': ['SVC','Random Forest','XGBC','Neural Networks','SVC','Random Forest','XGBC','Neural Networks','SVC','Random Forest','XGBC','Neural Networks'], 'Score': np.zeros(12)})"
   ]
  },
  {
   "cell_type": "code",
   "execution_count": null,
   "id": "ec145126",
   "metadata": {},
   "outputs": [],
   "source": [
    "ml_scores.head(12)"
   ]
  },
  {
   "cell_type": "markdown",
   "id": "f21d01a9",
   "metadata": {},
   "source": [
    "# Primer dataset"
   ]
  },
  {
   "cell_type": "code",
   "execution_count": 35,
   "id": "75b0a565",
   "metadata": {},
   "outputs": [],
   "source": [
    "df = pd.read_csv('data/space_etl2.csv',skipinitialspace=True)"
   ]
  },
  {
   "cell_type": "code",
   "execution_count": 36,
   "id": "92e8be2c",
   "metadata": {},
   "outputs": [],
   "source": [
    "y = df.Transported\n",
    "X = df.drop(['Transported','Cabin'],axis=1)\n"
   ]
  },
  {
   "cell_type": "code",
   "execution_count": 5,
   "id": "60f39cd7",
   "metadata": {},
   "outputs": [
    {
     "data": {
      "text/html": [
       "<div>\n",
       "<style scoped>\n",
       "    .dataframe tbody tr th:only-of-type {\n",
       "        vertical-align: middle;\n",
       "    }\n",
       "\n",
       "    .dataframe tbody tr th {\n",
       "        vertical-align: top;\n",
       "    }\n",
       "\n",
       "    .dataframe thead th {\n",
       "        text-align: right;\n",
       "    }\n",
       "</style>\n",
       "<table border=\"1\" class=\"dataframe\">\n",
       "  <thead>\n",
       "    <tr style=\"text-align: right;\">\n",
       "      <th></th>\n",
       "      <th>CryoSleep</th>\n",
       "      <th>Age</th>\n",
       "      <th>VIP</th>\n",
       "      <th>RoomService</th>\n",
       "      <th>FoodCourt</th>\n",
       "      <th>ShoppingMall</th>\n",
       "      <th>Spa</th>\n",
       "      <th>VRDeck</th>\n",
       "      <th>Num</th>\n",
       "      <th>HomePlanet_Earth</th>\n",
       "      <th>...</th>\n",
       "      <th>Deck_A</th>\n",
       "      <th>Deck_B</th>\n",
       "      <th>Deck_C</th>\n",
       "      <th>Deck_D</th>\n",
       "      <th>Deck_E</th>\n",
       "      <th>Deck_F</th>\n",
       "      <th>Deck_G</th>\n",
       "      <th>Deck_T</th>\n",
       "      <th>Side_P</th>\n",
       "      <th>Side_S</th>\n",
       "    </tr>\n",
       "  </thead>\n",
       "  <tbody>\n",
       "    <tr>\n",
       "      <th>0</th>\n",
       "      <td>False</td>\n",
       "      <td>39.0</td>\n",
       "      <td>False</td>\n",
       "      <td>0.0</td>\n",
       "      <td>0.0</td>\n",
       "      <td>0.0</td>\n",
       "      <td>0.0</td>\n",
       "      <td>0.0</td>\n",
       "      <td>0</td>\n",
       "      <td>0</td>\n",
       "      <td>...</td>\n",
       "      <td>0</td>\n",
       "      <td>1</td>\n",
       "      <td>0</td>\n",
       "      <td>0</td>\n",
       "      <td>0</td>\n",
       "      <td>0</td>\n",
       "      <td>0</td>\n",
       "      <td>0</td>\n",
       "      <td>1</td>\n",
       "      <td>0</td>\n",
       "    </tr>\n",
       "    <tr>\n",
       "      <th>1</th>\n",
       "      <td>False</td>\n",
       "      <td>24.0</td>\n",
       "      <td>False</td>\n",
       "      <td>109.0</td>\n",
       "      <td>9.0</td>\n",
       "      <td>25.0</td>\n",
       "      <td>549.0</td>\n",
       "      <td>44.0</td>\n",
       "      <td>0</td>\n",
       "      <td>1</td>\n",
       "      <td>...</td>\n",
       "      <td>0</td>\n",
       "      <td>0</td>\n",
       "      <td>0</td>\n",
       "      <td>0</td>\n",
       "      <td>0</td>\n",
       "      <td>1</td>\n",
       "      <td>0</td>\n",
       "      <td>0</td>\n",
       "      <td>0</td>\n",
       "      <td>1</td>\n",
       "    </tr>\n",
       "    <tr>\n",
       "      <th>2</th>\n",
       "      <td>False</td>\n",
       "      <td>58.0</td>\n",
       "      <td>True</td>\n",
       "      <td>43.0</td>\n",
       "      <td>3576.0</td>\n",
       "      <td>0.0</td>\n",
       "      <td>6715.0</td>\n",
       "      <td>49.0</td>\n",
       "      <td>0</td>\n",
       "      <td>0</td>\n",
       "      <td>...</td>\n",
       "      <td>1</td>\n",
       "      <td>0</td>\n",
       "      <td>0</td>\n",
       "      <td>0</td>\n",
       "      <td>0</td>\n",
       "      <td>0</td>\n",
       "      <td>0</td>\n",
       "      <td>0</td>\n",
       "      <td>0</td>\n",
       "      <td>1</td>\n",
       "    </tr>\n",
       "    <tr>\n",
       "      <th>3</th>\n",
       "      <td>False</td>\n",
       "      <td>33.0</td>\n",
       "      <td>False</td>\n",
       "      <td>0.0</td>\n",
       "      <td>1283.0</td>\n",
       "      <td>371.0</td>\n",
       "      <td>3329.0</td>\n",
       "      <td>193.0</td>\n",
       "      <td>0</td>\n",
       "      <td>0</td>\n",
       "      <td>...</td>\n",
       "      <td>1</td>\n",
       "      <td>0</td>\n",
       "      <td>0</td>\n",
       "      <td>0</td>\n",
       "      <td>0</td>\n",
       "      <td>0</td>\n",
       "      <td>0</td>\n",
       "      <td>0</td>\n",
       "      <td>0</td>\n",
       "      <td>1</td>\n",
       "    </tr>\n",
       "    <tr>\n",
       "      <th>4</th>\n",
       "      <td>False</td>\n",
       "      <td>16.0</td>\n",
       "      <td>False</td>\n",
       "      <td>303.0</td>\n",
       "      <td>70.0</td>\n",
       "      <td>151.0</td>\n",
       "      <td>565.0</td>\n",
       "      <td>2.0</td>\n",
       "      <td>1</td>\n",
       "      <td>1</td>\n",
       "      <td>...</td>\n",
       "      <td>0</td>\n",
       "      <td>0</td>\n",
       "      <td>0</td>\n",
       "      <td>0</td>\n",
       "      <td>0</td>\n",
       "      <td>1</td>\n",
       "      <td>0</td>\n",
       "      <td>0</td>\n",
       "      <td>0</td>\n",
       "      <td>1</td>\n",
       "    </tr>\n",
       "  </tbody>\n",
       "</table>\n",
       "<p>5 rows × 25 columns</p>\n",
       "</div>"
      ],
      "text/plain": [
       "   CryoSleep   Age    VIP  RoomService  FoodCourt  ShoppingMall     Spa  \\\n",
       "0      False  39.0  False          0.0        0.0           0.0     0.0   \n",
       "1      False  24.0  False        109.0        9.0          25.0   549.0   \n",
       "2      False  58.0   True         43.0     3576.0           0.0  6715.0   \n",
       "3      False  33.0  False          0.0     1283.0         371.0  3329.0   \n",
       "4      False  16.0  False        303.0       70.0         151.0   565.0   \n",
       "\n",
       "   VRDeck  Num  HomePlanet_Earth  ...  Deck_A  Deck_B  Deck_C  Deck_D  Deck_E  \\\n",
       "0     0.0    0                 0  ...       0       1       0       0       0   \n",
       "1    44.0    0                 1  ...       0       0       0       0       0   \n",
       "2    49.0    0                 0  ...       1       0       0       0       0   \n",
       "3   193.0    0                 0  ...       1       0       0       0       0   \n",
       "4     2.0    1                 1  ...       0       0       0       0       0   \n",
       "\n",
       "   Deck_F  Deck_G  Deck_T  Side_P  Side_S  \n",
       "0       0       0       0       1       0  \n",
       "1       1       0       0       0       1  \n",
       "2       0       0       0       0       1  \n",
       "3       0       0       0       0       1  \n",
       "4       1       0       0       0       1  \n",
       "\n",
       "[5 rows x 25 columns]"
      ]
     },
     "execution_count": 5,
     "metadata": {},
     "output_type": "execute_result"
    }
   ],
   "source": [
    "X.head()"
   ]
  },
  {
   "cell_type": "code",
   "execution_count": 37,
   "id": "c132bc11",
   "metadata": {},
   "outputs": [],
   "source": [
    "X_train, X_test, y_train, y_test = train_test_split(X, y, test_size=0.3, random_state=1)"
   ]
  },
  {
   "cell_type": "markdown",
   "id": "891e9ac6",
   "metadata": {},
   "source": [
    "## Support Vector Machine"
   ]
  },
  {
   "cell_type": "code",
   "execution_count": 6,
   "id": "6569229b",
   "metadata": {},
   "outputs": [],
   "source": [
    "svc = SVC(gamma='auto',random_state=1,kernel='rbf')"
   ]
  },
  {
   "cell_type": "code",
   "execution_count": 7,
   "id": "f26314f5",
   "metadata": {},
   "outputs": [
    {
     "data": {
      "text/html": [
       "<style>#sk-container-id-1 {color: black;background-color: white;}#sk-container-id-1 pre{padding: 0;}#sk-container-id-1 div.sk-toggleable {background-color: white;}#sk-container-id-1 label.sk-toggleable__label {cursor: pointer;display: block;width: 100%;margin-bottom: 0;padding: 0.3em;box-sizing: border-box;text-align: center;}#sk-container-id-1 label.sk-toggleable__label-arrow:before {content: \"▸\";float: left;margin-right: 0.25em;color: #696969;}#sk-container-id-1 label.sk-toggleable__label-arrow:hover:before {color: black;}#sk-container-id-1 div.sk-estimator:hover label.sk-toggleable__label-arrow:before {color: black;}#sk-container-id-1 div.sk-toggleable__content {max-height: 0;max-width: 0;overflow: hidden;text-align: left;background-color: #f0f8ff;}#sk-container-id-1 div.sk-toggleable__content pre {margin: 0.2em;color: black;border-radius: 0.25em;background-color: #f0f8ff;}#sk-container-id-1 input.sk-toggleable__control:checked~div.sk-toggleable__content {max-height: 200px;max-width: 100%;overflow: auto;}#sk-container-id-1 input.sk-toggleable__control:checked~label.sk-toggleable__label-arrow:before {content: \"▾\";}#sk-container-id-1 div.sk-estimator input.sk-toggleable__control:checked~label.sk-toggleable__label {background-color: #d4ebff;}#sk-container-id-1 div.sk-label input.sk-toggleable__control:checked~label.sk-toggleable__label {background-color: #d4ebff;}#sk-container-id-1 input.sk-hidden--visually {border: 0;clip: rect(1px 1px 1px 1px);clip: rect(1px, 1px, 1px, 1px);height: 1px;margin: -1px;overflow: hidden;padding: 0;position: absolute;width: 1px;}#sk-container-id-1 div.sk-estimator {font-family: monospace;background-color: #f0f8ff;border: 1px dotted black;border-radius: 0.25em;box-sizing: border-box;margin-bottom: 0.5em;}#sk-container-id-1 div.sk-estimator:hover {background-color: #d4ebff;}#sk-container-id-1 div.sk-parallel-item::after {content: \"\";width: 100%;border-bottom: 1px solid gray;flex-grow: 1;}#sk-container-id-1 div.sk-label:hover label.sk-toggleable__label {background-color: #d4ebff;}#sk-container-id-1 div.sk-serial::before {content: \"\";position: absolute;border-left: 1px solid gray;box-sizing: border-box;top: 0;bottom: 0;left: 50%;z-index: 0;}#sk-container-id-1 div.sk-serial {display: flex;flex-direction: column;align-items: center;background-color: white;padding-right: 0.2em;padding-left: 0.2em;position: relative;}#sk-container-id-1 div.sk-item {position: relative;z-index: 1;}#sk-container-id-1 div.sk-parallel {display: flex;align-items: stretch;justify-content: center;background-color: white;position: relative;}#sk-container-id-1 div.sk-item::before, #sk-container-id-1 div.sk-parallel-item::before {content: \"\";position: absolute;border-left: 1px solid gray;box-sizing: border-box;top: 0;bottom: 0;left: 50%;z-index: -1;}#sk-container-id-1 div.sk-parallel-item {display: flex;flex-direction: column;z-index: 1;position: relative;background-color: white;}#sk-container-id-1 div.sk-parallel-item:first-child::after {align-self: flex-end;width: 50%;}#sk-container-id-1 div.sk-parallel-item:last-child::after {align-self: flex-start;width: 50%;}#sk-container-id-1 div.sk-parallel-item:only-child::after {width: 0;}#sk-container-id-1 div.sk-dashed-wrapped {border: 1px dashed gray;margin: 0 0.4em 0.5em 0.4em;box-sizing: border-box;padding-bottom: 0.4em;background-color: white;}#sk-container-id-1 div.sk-label label {font-family: monospace;font-weight: bold;display: inline-block;line-height: 1.2em;}#sk-container-id-1 div.sk-label-container {text-align: center;}#sk-container-id-1 div.sk-container {/* jupyter's `normalize.less` sets `[hidden] { display: none; }` but bootstrap.min.css set `[hidden] { display: none !important; }` so we also need the `!important` here to be able to override the default hidden behavior on the sphinx rendered scikit-learn.org. See: https://github.com/scikit-learn/scikit-learn/issues/21755 */display: inline-block !important;position: relative;}#sk-container-id-1 div.sk-text-repr-fallback {display: none;}</style><div id=\"sk-container-id-1\" class=\"sk-top-container\"><div class=\"sk-text-repr-fallback\"><pre>SVC(gamma=&#x27;auto&#x27;, random_state=1)</pre><b>In a Jupyter environment, please rerun this cell to show the HTML representation or trust the notebook. <br />On GitHub, the HTML representation is unable to render, please try loading this page with nbviewer.org.</b></div><div class=\"sk-container\" hidden><div class=\"sk-item\"><div class=\"sk-estimator sk-toggleable\"><input class=\"sk-toggleable__control sk-hidden--visually\" id=\"sk-estimator-id-1\" type=\"checkbox\" checked><label for=\"sk-estimator-id-1\" class=\"sk-toggleable__label sk-toggleable__label-arrow\">SVC</label><div class=\"sk-toggleable__content\"><pre>SVC(gamma=&#x27;auto&#x27;, random_state=1)</pre></div></div></div></div></div>"
      ],
      "text/plain": [
       "SVC(gamma='auto', random_state=1)"
      ]
     },
     "execution_count": 7,
     "metadata": {},
     "output_type": "execute_result"
    }
   ],
   "source": [
    "svc.fit(X_train,y_train)"
   ]
  },
  {
   "cell_type": "code",
   "execution_count": 8,
   "id": "423e591f",
   "metadata": {},
   "outputs": [],
   "source": [
    "predicted = svc.predict(X_test)"
   ]
  },
  {
   "cell_type": "code",
   "execution_count": 27,
   "id": "163bc287",
   "metadata": {},
   "outputs": [
    {
     "data": {
      "image/png": "[encoded data removed]",
      "text/plain": [
       "<Figure size 640x480 with 2 Axes>"
      ]
     },
     "metadata": {},
     "output_type": "display_data"
    }
   ],
   "source": [
    "confusion_matrix = metrics.confusion_matrix(y_test, predicted)\n",
    "\n",
    "cm_display = metrics.ConfusionMatrixDisplay(confusion_matrix = confusion_matrix, display_labels = [False, True])\n",
    "\n",
    "cm_display.plot()\n",
    "plt.show() "
   ]
  },
  {
   "cell_type": "code",
   "execution_count": 9,
   "id": "3411bb15",
   "metadata": {},
   "outputs": [
    {
     "data": {
      "text/plain": [
       "0.6837975676735975"
      ]
     },
     "execution_count": 9,
     "metadata": {},
     "output_type": "execute_result"
    }
   ],
   "source": [
    "accuracy_score(y_test, predicted)"
   ]
  },
  {
   "cell_type": "code",
   "execution_count": null,
   "id": "81d5ba50",
   "metadata": {},
   "outputs": [],
   "source": [
    "ml_scores['Score'].iloc[0] = accuracy_score(y_test, predicted)"
   ]
  },
  {
   "cell_type": "markdown",
   "id": "8123009d",
   "metadata": {},
   "source": [
    "## RandomForestClassifier"
   ]
  },
  {
   "cell_type": "code",
   "execution_count": 6,
   "id": "d6d1bc3b",
   "metadata": {},
   "outputs": [],
   "source": [
    "rfc = RandomForestClassifier(n_estimators = 100,max_depth=15, random_state=1)"
   ]
  },
  {
   "cell_type": "code",
   "execution_count": 7,
   "id": "36ce087e",
   "metadata": {},
   "outputs": [],
   "source": [
    "rfc.fit(X_train, y_train)\n",
    "X_predicted = rfc.predict(X_test)"
   ]
  },
  {
   "cell_type": "code",
   "execution_count": 8,
   "id": "15a767f9",
   "metadata": {},
   "outputs": [
    {
     "data": {
      "text/plain": [
       "0.7987446057277363"
      ]
     },
     "execution_count": 8,
     "metadata": {},
     "output_type": "execute_result"
    }
   ],
   "source": [
    "accuracy_score(y_test,X_predicted)"
   ]
  },
  {
   "cell_type": "code",
   "execution_count": 14,
   "id": "28e8bd01",
   "metadata": {},
   "outputs": [
    {
     "data": {
      "image/png": "[encoded data removed]",
      "text/plain": [
       "<Figure size 640x480 with 2 Axes>"
      ]
     },
     "metadata": {},
     "output_type": "display_data"
    }
   ],
   "source": [
    "confusion_matrix = metrics.confusion_matrix(y_test, X_predicted)\n",
    "\n",
    "cm_display = metrics.ConfusionMatrixDisplay(confusion_matrix = confusion_matrix, display_labels = [False, True])\n",
    "\n",
    "cm_display.plot()\n",
    "plt.show() "
   ]
  },
  {
   "cell_type": "code",
   "execution_count": null,
   "id": "73681d5e",
   "metadata": {},
   "outputs": [],
   "source": [
    "ml_scores['Score'].iloc[1] = accuracy_score(y_test,X_predicted)"
   ]
  },
  {
   "cell_type": "markdown",
   "id": "abddcd81",
   "metadata": {},
   "source": [
    "### RandomForestClassifier con GridCV"
   ]
  },
  {
   "cell_type": "code",
   "execution_count": 8,
   "id": "1ef26518",
   "metadata": {},
   "outputs": [
    {
     "data": {
      "text/plain": [
       "{'max_depth': 15, 'n_estimators': 100}"
      ]
     },
     "execution_count": 8,
     "metadata": {},
     "output_type": "execute_result"
    }
   ],
   "source": [
    "#parameters = {'n_estimators':[50,100,150,200,250], 'max_depth':[5,6,7,8,9,10,11,12,13,14,15],'min_samples_leaf':[1,2,3,4,5,6,7,8,9,10]}\n",
    "parameters= {'n_estimators':[50,100,150,200,250], 'max_depth':[8,9,10,11,12,13,14,15]}\n",
    "rfc = RandomForestClassifier(random_state=1)\n",
    "clf = GridSearchCV(rfc, parameters)\n",
    "clf.fit(X_train,y_train)\n",
    "clf.best_params_"
   ]
  },
  {
   "cell_type": "markdown",
   "id": "05c42091",
   "metadata": {},
   "source": [
    "## XGBClassifier"
   ]
  },
  {
   "cell_type": "code",
   "execution_count": 38,
   "id": "aac7749e",
   "metadata": {},
   "outputs": [
    {
     "name": "stderr",
     "output_type": "stream",
     "text": [
      "/home/enrique.jimenez/miniconda3/envs/curso_ciencia_de_datos/lib/python3.8/site-packages/xgboost/sklearn.py:1395: UserWarning: `use_label_encoder` is deprecated in 1.7.0.\n",
      "  warnings.warn(\"`use_label_encoder` is deprecated in 1.7.0.\")\n"
     ]
    }
   ],
   "source": [
    "xbgc = XGBClassifier(use_label_encoder=False, eval_metric='mlogloss',random_state=1,max_depth=8,n_estimators=50)"
   ]
  },
  {
   "cell_type": "code",
   "execution_count": 39,
   "id": "e49fbdbe",
   "metadata": {},
   "outputs": [
    {
     "data": {
      "text/html": [
       "<style>#sk-container-id-2 {color: black;background-color: white;}#sk-container-id-2 pre{padding: 0;}#sk-container-id-2 div.sk-toggleable {background-color: white;}#sk-container-id-2 label.sk-toggleable__label {cursor: pointer;display: block;width: 100%;margin-bottom: 0;padding: 0.3em;box-sizing: border-box;text-align: center;}#sk-container-id-2 label.sk-toggleable__label-arrow:before {content: \"▸\";float: left;margin-right: 0.25em;color: #696969;}#sk-container-id-2 label.sk-toggleable__label-arrow:hover:before {color: black;}#sk-container-id-2 div.sk-estimator:hover label.sk-toggleable__label-arrow:before {color: black;}#sk-container-id-2 div.sk-toggleable__content {max-height: 0;max-width: 0;overflow: hidden;text-align: left;background-color: #f0f8ff;}#sk-container-id-2 div.sk-toggleable__content pre {margin: 0.2em;color: black;border-radius: 0.25em;background-color: #f0f8ff;}#sk-container-id-2 input.sk-toggleable__control:checked~div.sk-toggleable__content {max-height: 200px;max-width: 100%;overflow: auto;}#sk-container-id-2 input.sk-toggleable__control:checked~label.sk-toggleable__label-arrow:before {content: \"▾\";}#sk-container-id-2 div.sk-estimator input.sk-toggleable__control:checked~label.sk-toggleable__label {background-color: #d4ebff;}#sk-container-id-2 div.sk-label input.sk-toggleable__control:checked~label.sk-toggleable__label {background-color: #d4ebff;}#sk-container-id-2 input.sk-hidden--visually {border: 0;clip: rect(1px 1px 1px 1px);clip: rect(1px, 1px, 1px, 1px);height: 1px;margin: -1px;overflow: hidden;padding: 0;position: absolute;width: 1px;}#sk-container-id-2 div.sk-estimator {font-family: monospace;background-color: #f0f8ff;border: 1px dotted black;border-radius: 0.25em;box-sizing: border-box;margin-bottom: 0.5em;}#sk-container-id-2 div.sk-estimator:hover {background-color: #d4ebff;}#sk-container-id-2 div.sk-parallel-item::after {content: \"\";width: 100%;border-bottom: 1px solid gray;flex-grow: 1;}#sk-container-id-2 div.sk-label:hover label.sk-toggleable__label {background-color: #d4ebff;}#sk-container-id-2 div.sk-serial::before {content: \"\";position: absolute;border-left: 1px solid gray;box-sizing: border-box;top: 0;bottom: 0;left: 50%;z-index: 0;}#sk-container-id-2 div.sk-serial {display: flex;flex-direction: column;align-items: center;background-color: white;padding-right: 0.2em;padding-left: 0.2em;position: relative;}#sk-container-id-2 div.sk-item {position: relative;z-index: 1;}#sk-container-id-2 div.sk-parallel {display: flex;align-items: stretch;justify-content: center;background-color: white;position: relative;}#sk-container-id-2 div.sk-item::before, #sk-container-id-2 div.sk-parallel-item::before {content: \"\";position: absolute;border-left: 1px solid gray;box-sizing: border-box;top: 0;bottom: 0;left: 50%;z-index: -1;}#sk-container-id-2 div.sk-parallel-item {display: flex;flex-direction: column;z-index: 1;position: relative;background-color: white;}#sk-container-id-2 div.sk-parallel-item:first-child::after {align-self: flex-end;width: 50%;}#sk-container-id-2 div.sk-parallel-item:last-child::after {align-self: flex-start;width: 50%;}#sk-container-id-2 div.sk-parallel-item:only-child::after {width: 0;}#sk-container-id-2 div.sk-dashed-wrapped {border: 1px dashed gray;margin: 0 0.4em 0.5em 0.4em;box-sizing: border-box;padding-bottom: 0.4em;background-color: white;}#sk-container-id-2 div.sk-label label {font-family: monospace;font-weight: bold;display: inline-block;line-height: 1.2em;}#sk-container-id-2 div.sk-label-container {text-align: center;}#sk-container-id-2 div.sk-container {/* jupyter's `normalize.less` sets `[hidden] { display: none; }` but bootstrap.min.css set `[hidden] { display: none !important; }` so we also need the `!important` here to be able to override the default hidden behavior on the sphinx rendered scikit-learn.org. See: https://github.com/scikit-learn/scikit-learn/issues/21755 */display: inline-block !important;position: relative;}#sk-container-id-2 div.sk-text-repr-fallback {display: none;}</style><div id=\"sk-container-id-2\" class=\"sk-top-container\"><div class=\"sk-text-repr-fallback\"><pre>XGBClassifier(base_score=None, booster=None, callbacks=None,\n",
       "              colsample_bylevel=None, colsample_bynode=None,\n",
       "              colsample_bytree=None, early_stopping_rounds=None,\n",
       "              enable_categorical=False, eval_metric=&#x27;mlogloss&#x27;,\n",
       "              feature_types=None, gamma=None, gpu_id=None, grow_policy=None,\n",
       "              importance_type=None, interaction_constraints=None,\n",
       "              learning_rate=None, max_bin=None, max_cat_threshold=None,\n",
       "              max_cat_to_onehot=None, max_delta_step=None, max_depth=8,\n",
       "              max_leaves=None, min_child_weight=None, missing=nan,\n",
       "              monotone_constraints=None, n_estimators=50, n_jobs=None,\n",
       "              num_parallel_tree=None, predictor=None, random_state=1, ...)</pre><b>In a Jupyter environment, please rerun this cell to show the HTML representation or trust the notebook. <br />On GitHub, the HTML representation is unable to render, please try loading this page with nbviewer.org.</b></div><div class=\"sk-container\" hidden><div class=\"sk-item\"><div class=\"sk-estimator sk-toggleable\"><input class=\"sk-toggleable__control sk-hidden--visually\" id=\"sk-estimator-id-2\" type=\"checkbox\" checked><label for=\"sk-estimator-id-2\" class=\"sk-toggleable__label sk-toggleable__label-arrow\">XGBClassifier</label><div class=\"sk-toggleable__content\"><pre>XGBClassifier(base_score=None, booster=None, callbacks=None,\n",
       "              colsample_bylevel=None, colsample_bynode=None,\n",
       "              colsample_bytree=None, early_stopping_rounds=None,\n",
       "              enable_categorical=False, eval_metric=&#x27;mlogloss&#x27;,\n",
       "              feature_types=None, gamma=None, gpu_id=None, grow_policy=None,\n",
       "              importance_type=None, interaction_constraints=None,\n",
       "              learning_rate=None, max_bin=None, max_cat_threshold=None,\n",
       "              max_cat_to_onehot=None, max_delta_step=None, max_depth=8,\n",
       "              max_leaves=None, min_child_weight=None, missing=nan,\n",
       "              monotone_constraints=None, n_estimators=50, n_jobs=None,\n",
       "              num_parallel_tree=None, predictor=None, random_state=1, ...)</pre></div></div></div></div></div>"
      ],
      "text/plain": [
       "XGBClassifier(base_score=None, booster=None, callbacks=None,\n",
       "              colsample_bylevel=None, colsample_bynode=None,\n",
       "              colsample_bytree=None, early_stopping_rounds=None,\n",
       "              enable_categorical=False, eval_metric='mlogloss',\n",
       "              feature_types=None, gamma=None, gpu_id=None, grow_policy=None,\n",
       "              importance_type=None, interaction_constraints=None,\n",
       "              learning_rate=None, max_bin=None, max_cat_threshold=None,\n",
       "              max_cat_to_onehot=None, max_delta_step=None, max_depth=8,\n",
       "              max_leaves=None, min_child_weight=None, missing=nan,\n",
       "              monotone_constraints=None, n_estimators=50, n_jobs=None,\n",
       "              num_parallel_tree=None, predictor=None, random_state=1, ...)"
      ]
     },
     "execution_count": 39,
     "metadata": {},
     "output_type": "execute_result"
    }
   ],
   "source": [
    "xbgc.fit(X_train,y_train)"
   ]
  },
  {
   "cell_type": "code",
   "execution_count": 40,
   "id": "7fe0ed30",
   "metadata": {},
   "outputs": [],
   "source": [
    "xbgc_predicted = xbgc.predict(X_test)"
   ]
  },
  {
   "cell_type": "code",
   "execution_count": 41,
   "id": "768514eb",
   "metadata": {},
   "outputs": [
    {
     "data": {
      "text/plain": [
       "0.8003138485680659"
      ]
     },
     "execution_count": 41,
     "metadata": {},
     "output_type": "execute_result"
    }
   ],
   "source": [
    "accuracy_score(y_test, xbgc_predicted)"
   ]
  },
  {
   "cell_type": "code",
   "execution_count": 20,
   "id": "f766bd93",
   "metadata": {},
   "outputs": [
    {
     "data": {
      "image/png": "[encoded data removed]",
      "text/plain": [
       "<Figure size 640x480 with 2 Axes>"
      ]
     },
     "metadata": {},
     "output_type": "display_data"
    }
   ],
   "source": [
    "confusion_matrix = metrics.confusion_matrix(y_test, xbgc_predicted)\n",
    "\n",
    "cm_display = metrics.ConfusionMatrixDisplay(confusion_matrix = confusion_matrix, display_labels = [False, True])\n",
    "\n",
    "cm_display.plot()\n",
    "plt.show() "
   ]
  },
  {
   "cell_type": "code",
   "execution_count": null,
   "id": "8230ee7f",
   "metadata": {},
   "outputs": [],
   "source": [
    "ml_scores['Score'].iloc[2] = accuracy_score(y_test, xbgc_predicted)"
   ]
  },
  {
   "cell_type": "markdown",
   "id": "e242f930",
   "metadata": {},
   "source": [
    "### XGBClassifier con GridCV"
   ]
  },
  {
   "cell_type": "code",
   "execution_count": 13,
   "id": "91708f55",
   "metadata": {},
   "outputs": [
    {
     "name": "stderr",
     "output_type": "stream",
     "text": [
      "/home/enrique.jimenez/miniconda3/envs/curso_ciencia_de_datos/lib/python3.8/site-packages/xgboost/sklearn.py:1395: UserWarning: `use_label_encoder` is deprecated in 1.7.0.\n",
      "  warnings.warn(\"`use_label_encoder` is deprecated in 1.7.0.\")\n",
      "/home/enrique.jimenez/miniconda3/envs/curso_ciencia_de_datos/lib/python3.8/site-packages/xgboost/sklearn.py:1395: UserWarning: `use_label_encoder` is deprecated in 1.7.0.\n",
      "  warnings.warn(\"`use_label_encoder` is deprecated in 1.7.0.\")\n",
      "/home/enrique.jimenez/miniconda3/envs/curso_ciencia_de_datos/lib/python3.8/site-packages/xgboost/sklearn.py:1395: UserWarning: `use_label_encoder` is deprecated in 1.7.0.\n",
      "  warnings.warn(\"`use_label_encoder` is deprecated in 1.7.0.\")\n",
      "/home/enrique.jimenez/miniconda3/envs/curso_ciencia_de_datos/lib/python3.8/site-packages/xgboost/sklearn.py:1395: UserWarning: `use_label_encoder` is deprecated in 1.7.0.\n",
      "  warnings.warn(\"`use_label_encoder` is deprecated in 1.7.0.\")\n",
      "/home/enrique.jimenez/miniconda3/envs/curso_ciencia_de_datos/lib/python3.8/site-packages/xgboost/sklearn.py:1395: UserWarning: `use_label_encoder` is deprecated in 1.7.0.\n",
      "  warnings.warn(\"`use_label_encoder` is deprecated in 1.7.0.\")\n",
      "/home/enrique.jimenez/miniconda3/envs/curso_ciencia_de_datos/lib/python3.8/site-packages/xgboost/sklearn.py:1395: UserWarning: `use_label_encoder` is deprecated in 1.7.0.\n",
      "  warnings.warn(\"`use_label_encoder` is deprecated in 1.7.0.\")\n",
      "/home/enrique.jimenez/miniconda3/envs/curso_ciencia_de_datos/lib/python3.8/site-packages/xgboost/sklearn.py:1395: UserWarning: `use_label_encoder` is deprecated in 1.7.0.\n",
      "  warnings.warn(\"`use_label_encoder` is deprecated in 1.7.0.\")\n",
      "/home/enrique.jimenez/miniconda3/envs/curso_ciencia_de_datos/lib/python3.8/site-packages/xgboost/sklearn.py:1395: UserWarning: `use_label_encoder` is deprecated in 1.7.0.\n",
      "  warnings.warn(\"`use_label_encoder` is deprecated in 1.7.0.\")\n",
      "/home/enrique.jimenez/miniconda3/envs/curso_ciencia_de_datos/lib/python3.8/site-packages/xgboost/sklearn.py:1395: UserWarning: `use_label_encoder` is deprecated in 1.7.0.\n",
      "  warnings.warn(\"`use_label_encoder` is deprecated in 1.7.0.\")\n",
      "/home/enrique.jimenez/miniconda3/envs/curso_ciencia_de_datos/lib/python3.8/site-packages/xgboost/sklearn.py:1395: UserWarning: `use_label_encoder` is deprecated in 1.7.0.\n",
      "  warnings.warn(\"`use_label_encoder` is deprecated in 1.7.0.\")\n",
      "/home/enrique.jimenez/miniconda3/envs/curso_ciencia_de_datos/lib/python3.8/site-packages/xgboost/sklearn.py:1395: UserWarning: `use_label_encoder` is deprecated in 1.7.0.\n",
      "  warnings.warn(\"`use_label_encoder` is deprecated in 1.7.0.\")\n",
      "/home/enrique.jimenez/miniconda3/envs/curso_ciencia_de_datos/lib/python3.8/site-packages/xgboost/sklearn.py:1395: UserWarning: `use_label_encoder` is deprecated in 1.7.0.\n",
      "  warnings.warn(\"`use_label_encoder` is deprecated in 1.7.0.\")\n",
      "/home/enrique.jimenez/miniconda3/envs/curso_ciencia_de_datos/lib/python3.8/site-packages/xgboost/sklearn.py:1395: UserWarning: `use_label_encoder` is deprecated in 1.7.0.\n",
      "  warnings.warn(\"`use_label_encoder` is deprecated in 1.7.0.\")\n",
      "/home/enrique.jimenez/miniconda3/envs/curso_ciencia_de_datos/lib/python3.8/site-packages/xgboost/sklearn.py:1395: UserWarning: `use_label_encoder` is deprecated in 1.7.0.\n",
      "  warnings.warn(\"`use_label_encoder` is deprecated in 1.7.0.\")\n",
      "/home/enrique.jimenez/miniconda3/envs/curso_ciencia_de_datos/lib/python3.8/site-packages/xgboost/sklearn.py:1395: UserWarning: `use_label_encoder` is deprecated in 1.7.0.\n",
      "  warnings.warn(\"`use_label_encoder` is deprecated in 1.7.0.\")\n",
      "/home/enrique.jimenez/miniconda3/envs/curso_ciencia_de_datos/lib/python3.8/site-packages/xgboost/sklearn.py:1395: UserWarning: `use_label_encoder` is deprecated in 1.7.0.\n",
      "  warnings.warn(\"`use_label_encoder` is deprecated in 1.7.0.\")\n",
      "/home/enrique.jimenez/miniconda3/envs/curso_ciencia_de_datos/lib/python3.8/site-packages/xgboost/sklearn.py:1395: UserWarning: `use_label_encoder` is deprecated in 1.7.0.\n",
      "  warnings.warn(\"`use_label_encoder` is deprecated in 1.7.0.\")\n",
      "/home/enrique.jimenez/miniconda3/envs/curso_ciencia_de_datos/lib/python3.8/site-packages/xgboost/sklearn.py:1395: UserWarning: `use_label_encoder` is deprecated in 1.7.0.\n",
      "  warnings.warn(\"`use_label_encoder` is deprecated in 1.7.0.\")\n",
      "/home/enrique.jimenez/miniconda3/envs/curso_ciencia_de_datos/lib/python3.8/site-packages/xgboost/sklearn.py:1395: UserWarning: `use_label_encoder` is deprecated in 1.7.0.\n",
      "  warnings.warn(\"`use_label_encoder` is deprecated in 1.7.0.\")\n",
      "/home/enrique.jimenez/miniconda3/envs/curso_ciencia_de_datos/lib/python3.8/site-packages/xgboost/sklearn.py:1395: UserWarning: `use_label_encoder` is deprecated in 1.7.0.\n",
      "  warnings.warn(\"`use_label_encoder` is deprecated in 1.7.0.\")\n",
      "/home/enrique.jimenez/miniconda3/envs/curso_ciencia_de_datos/lib/python3.8/site-packages/xgboost/sklearn.py:1395: UserWarning: `use_label_encoder` is deprecated in 1.7.0.\n",
      "  warnings.warn(\"`use_label_encoder` is deprecated in 1.7.0.\")\n",
      "/home/enrique.jimenez/miniconda3/envs/curso_ciencia_de_datos/lib/python3.8/site-packages/xgboost/sklearn.py:1395: UserWarning: `use_label_encoder` is deprecated in 1.7.0.\n",
      "  warnings.warn(\"`use_label_encoder` is deprecated in 1.7.0.\")\n",
      "/home/enrique.jimenez/miniconda3/envs/curso_ciencia_de_datos/lib/python3.8/site-packages/xgboost/sklearn.py:1395: UserWarning: `use_label_encoder` is deprecated in 1.7.0.\n",
      "  warnings.warn(\"`use_label_encoder` is deprecated in 1.7.0.\")\n",
      "/home/enrique.jimenez/miniconda3/envs/curso_ciencia_de_datos/lib/python3.8/site-packages/xgboost/sklearn.py:1395: UserWarning: `use_label_encoder` is deprecated in 1.7.0.\n",
      "  warnings.warn(\"`use_label_encoder` is deprecated in 1.7.0.\")\n",
      "/home/enrique.jimenez/miniconda3/envs/curso_ciencia_de_datos/lib/python3.8/site-packages/xgboost/sklearn.py:1395: UserWarning: `use_label_encoder` is deprecated in 1.7.0.\n",
      "  warnings.warn(\"`use_label_encoder` is deprecated in 1.7.0.\")\n",
      "/home/enrique.jimenez/miniconda3/envs/curso_ciencia_de_datos/lib/python3.8/site-packages/xgboost/sklearn.py:1395: UserWarning: `use_label_encoder` is deprecated in 1.7.0.\n",
      "  warnings.warn(\"`use_label_encoder` is deprecated in 1.7.0.\")\n",
      "/home/enrique.jimenez/miniconda3/envs/curso_ciencia_de_datos/lib/python3.8/site-packages/xgboost/sklearn.py:1395: UserWarning: `use_label_encoder` is deprecated in 1.7.0.\n",
      "  warnings.warn(\"`use_label_encoder` is deprecated in 1.7.0.\")\n",
      "/home/enrique.jimenez/miniconda3/envs/curso_ciencia_de_datos/lib/python3.8/site-packages/xgboost/sklearn.py:1395: UserWarning: `use_label_encoder` is deprecated in 1.7.0.\n",
      "  warnings.warn(\"`use_label_encoder` is deprecated in 1.7.0.\")\n",
      "/home/enrique.jimenez/miniconda3/envs/curso_ciencia_de_datos/lib/python3.8/site-packages/xgboost/sklearn.py:1395: UserWarning: `use_label_encoder` is deprecated in 1.7.0.\n",
      "  warnings.warn(\"`use_label_encoder` is deprecated in 1.7.0.\")\n",
      "/home/enrique.jimenez/miniconda3/envs/curso_ciencia_de_datos/lib/python3.8/site-packages/xgboost/sklearn.py:1395: UserWarning: `use_label_encoder` is deprecated in 1.7.0.\n",
      "  warnings.warn(\"`use_label_encoder` is deprecated in 1.7.0.\")\n",
      "/home/enrique.jimenez/miniconda3/envs/curso_ciencia_de_datos/lib/python3.8/site-packages/xgboost/sklearn.py:1395: UserWarning: `use_label_encoder` is deprecated in 1.7.0.\n",
      "  warnings.warn(\"`use_label_encoder` is deprecated in 1.7.0.\")\n",
      "/home/enrique.jimenez/miniconda3/envs/curso_ciencia_de_datos/lib/python3.8/site-packages/xgboost/sklearn.py:1395: UserWarning: `use_label_encoder` is deprecated in 1.7.0.\n",
      "  warnings.warn(\"`use_label_encoder` is deprecated in 1.7.0.\")\n",
      "/home/enrique.jimenez/miniconda3/envs/curso_ciencia_de_datos/lib/python3.8/site-packages/xgboost/sklearn.py:1395: UserWarning: `use_label_encoder` is deprecated in 1.7.0.\n",
      "  warnings.warn(\"`use_label_encoder` is deprecated in 1.7.0.\")\n",
      "/home/enrique.jimenez/miniconda3/envs/curso_ciencia_de_datos/lib/python3.8/site-packages/xgboost/sklearn.py:1395: UserWarning: `use_label_encoder` is deprecated in 1.7.0.\n",
      "  warnings.warn(\"`use_label_encoder` is deprecated in 1.7.0.\")\n",
      "/home/enrique.jimenez/miniconda3/envs/curso_ciencia_de_datos/lib/python3.8/site-packages/xgboost/sklearn.py:1395: UserWarning: `use_label_encoder` is deprecated in 1.7.0.\n",
      "  warnings.warn(\"`use_label_encoder` is deprecated in 1.7.0.\")\n",
      "/home/enrique.jimenez/miniconda3/envs/curso_ciencia_de_datos/lib/python3.8/site-packages/xgboost/sklearn.py:1395: UserWarning: `use_label_encoder` is deprecated in 1.7.0.\n",
      "  warnings.warn(\"`use_label_encoder` is deprecated in 1.7.0.\")\n"
     ]
    },
    {
     "name": "stderr",
     "output_type": "stream",
     "text": [
      "/home/enrique.jimenez/miniconda3/envs/curso_ciencia_de_datos/lib/python3.8/site-packages/xgboost/sklearn.py:1395: UserWarning: `use_label_encoder` is deprecated in 1.7.0.\n",
      "  warnings.warn(\"`use_label_encoder` is deprecated in 1.7.0.\")\n",
      "/home/enrique.jimenez/miniconda3/envs/curso_ciencia_de_datos/lib/python3.8/site-packages/xgboost/sklearn.py:1395: UserWarning: `use_label_encoder` is deprecated in 1.7.0.\n",
      "  warnings.warn(\"`use_label_encoder` is deprecated in 1.7.0.\")\n",
      "/home/enrique.jimenez/miniconda3/envs/curso_ciencia_de_datos/lib/python3.8/site-packages/xgboost/sklearn.py:1395: UserWarning: `use_label_encoder` is deprecated in 1.7.0.\n",
      "  warnings.warn(\"`use_label_encoder` is deprecated in 1.7.0.\")\n",
      "/home/enrique.jimenez/miniconda3/envs/curso_ciencia_de_datos/lib/python3.8/site-packages/xgboost/sklearn.py:1395: UserWarning: `use_label_encoder` is deprecated in 1.7.0.\n",
      "  warnings.warn(\"`use_label_encoder` is deprecated in 1.7.0.\")\n",
      "/home/enrique.jimenez/miniconda3/envs/curso_ciencia_de_datos/lib/python3.8/site-packages/xgboost/sklearn.py:1395: UserWarning: `use_label_encoder` is deprecated in 1.7.0.\n",
      "  warnings.warn(\"`use_label_encoder` is deprecated in 1.7.0.\")\n",
      "/home/enrique.jimenez/miniconda3/envs/curso_ciencia_de_datos/lib/python3.8/site-packages/xgboost/sklearn.py:1395: UserWarning: `use_label_encoder` is deprecated in 1.7.0.\n",
      "  warnings.warn(\"`use_label_encoder` is deprecated in 1.7.0.\")\n",
      "/home/enrique.jimenez/miniconda3/envs/curso_ciencia_de_datos/lib/python3.8/site-packages/xgboost/sklearn.py:1395: UserWarning: `use_label_encoder` is deprecated in 1.7.0.\n",
      "  warnings.warn(\"`use_label_encoder` is deprecated in 1.7.0.\")\n",
      "/home/enrique.jimenez/miniconda3/envs/curso_ciencia_de_datos/lib/python3.8/site-packages/xgboost/sklearn.py:1395: UserWarning: `use_label_encoder` is deprecated in 1.7.0.\n",
      "  warnings.warn(\"`use_label_encoder` is deprecated in 1.7.0.\")\n",
      "/home/enrique.jimenez/miniconda3/envs/curso_ciencia_de_datos/lib/python3.8/site-packages/xgboost/sklearn.py:1395: UserWarning: `use_label_encoder` is deprecated in 1.7.0.\n",
      "  warnings.warn(\"`use_label_encoder` is deprecated in 1.7.0.\")\n",
      "/home/enrique.jimenez/miniconda3/envs/curso_ciencia_de_datos/lib/python3.8/site-packages/xgboost/sklearn.py:1395: UserWarning: `use_label_encoder` is deprecated in 1.7.0.\n",
      "  warnings.warn(\"`use_label_encoder` is deprecated in 1.7.0.\")\n",
      "/home/enrique.jimenez/miniconda3/envs/curso_ciencia_de_datos/lib/python3.8/site-packages/xgboost/sklearn.py:1395: UserWarning: `use_label_encoder` is deprecated in 1.7.0.\n",
      "  warnings.warn(\"`use_label_encoder` is deprecated in 1.7.0.\")\n",
      "/home/enrique.jimenez/miniconda3/envs/curso_ciencia_de_datos/lib/python3.8/site-packages/xgboost/sklearn.py:1395: UserWarning: `use_label_encoder` is deprecated in 1.7.0.\n",
      "  warnings.warn(\"`use_label_encoder` is deprecated in 1.7.0.\")\n",
      "/home/enrique.jimenez/miniconda3/envs/curso_ciencia_de_datos/lib/python3.8/site-packages/xgboost/sklearn.py:1395: UserWarning: `use_label_encoder` is deprecated in 1.7.0.\n",
      "  warnings.warn(\"`use_label_encoder` is deprecated in 1.7.0.\")\n",
      "/home/enrique.jimenez/miniconda3/envs/curso_ciencia_de_datos/lib/python3.8/site-packages/xgboost/sklearn.py:1395: UserWarning: `use_label_encoder` is deprecated in 1.7.0.\n",
      "  warnings.warn(\"`use_label_encoder` is deprecated in 1.7.0.\")\n",
      "/home/enrique.jimenez/miniconda3/envs/curso_ciencia_de_datos/lib/python3.8/site-packages/xgboost/sklearn.py:1395: UserWarning: `use_label_encoder` is deprecated in 1.7.0.\n",
      "  warnings.warn(\"`use_label_encoder` is deprecated in 1.7.0.\")\n",
      "/home/enrique.jimenez/miniconda3/envs/curso_ciencia_de_datos/lib/python3.8/site-packages/xgboost/sklearn.py:1395: UserWarning: `use_label_encoder` is deprecated in 1.7.0.\n",
      "  warnings.warn(\"`use_label_encoder` is deprecated in 1.7.0.\")\n",
      "/home/enrique.jimenez/miniconda3/envs/curso_ciencia_de_datos/lib/python3.8/site-packages/xgboost/sklearn.py:1395: UserWarning: `use_label_encoder` is deprecated in 1.7.0.\n",
      "  warnings.warn(\"`use_label_encoder` is deprecated in 1.7.0.\")\n",
      "/home/enrique.jimenez/miniconda3/envs/curso_ciencia_de_datos/lib/python3.8/site-packages/xgboost/sklearn.py:1395: UserWarning: `use_label_encoder` is deprecated in 1.7.0.\n",
      "  warnings.warn(\"`use_label_encoder` is deprecated in 1.7.0.\")\n",
      "/home/enrique.jimenez/miniconda3/envs/curso_ciencia_de_datos/lib/python3.8/site-packages/xgboost/sklearn.py:1395: UserWarning: `use_label_encoder` is deprecated in 1.7.0.\n",
      "  warnings.warn(\"`use_label_encoder` is deprecated in 1.7.0.\")\n",
      "/home/enrique.jimenez/miniconda3/envs/curso_ciencia_de_datos/lib/python3.8/site-packages/xgboost/sklearn.py:1395: UserWarning: `use_label_encoder` is deprecated in 1.7.0.\n",
      "  warnings.warn(\"`use_label_encoder` is deprecated in 1.7.0.\")\n",
      "/home/enrique.jimenez/miniconda3/envs/curso_ciencia_de_datos/lib/python3.8/site-packages/xgboost/sklearn.py:1395: UserWarning: `use_label_encoder` is deprecated in 1.7.0.\n",
      "  warnings.warn(\"`use_label_encoder` is deprecated in 1.7.0.\")\n",
      "/home/enrique.jimenez/miniconda3/envs/curso_ciencia_de_datos/lib/python3.8/site-packages/xgboost/sklearn.py:1395: UserWarning: `use_label_encoder` is deprecated in 1.7.0.\n",
      "  warnings.warn(\"`use_label_encoder` is deprecated in 1.7.0.\")\n",
      "/home/enrique.jimenez/miniconda3/envs/curso_ciencia_de_datos/lib/python3.8/site-packages/xgboost/sklearn.py:1395: UserWarning: `use_label_encoder` is deprecated in 1.7.0.\n",
      "  warnings.warn(\"`use_label_encoder` is deprecated in 1.7.0.\")\n",
      "/home/enrique.jimenez/miniconda3/envs/curso_ciencia_de_datos/lib/python3.8/site-packages/xgboost/sklearn.py:1395: UserWarning: `use_label_encoder` is deprecated in 1.7.0.\n",
      "  warnings.warn(\"`use_label_encoder` is deprecated in 1.7.0.\")\n",
      "/home/enrique.jimenez/miniconda3/envs/curso_ciencia_de_datos/lib/python3.8/site-packages/xgboost/sklearn.py:1395: UserWarning: `use_label_encoder` is deprecated in 1.7.0.\n",
      "  warnings.warn(\"`use_label_encoder` is deprecated in 1.7.0.\")\n",
      "/home/enrique.jimenez/miniconda3/envs/curso_ciencia_de_datos/lib/python3.8/site-packages/xgboost/sklearn.py:1395: UserWarning: `use_label_encoder` is deprecated in 1.7.0.\n",
      "  warnings.warn(\"`use_label_encoder` is deprecated in 1.7.0.\")\n",
      "/home/enrique.jimenez/miniconda3/envs/curso_ciencia_de_datos/lib/python3.8/site-packages/xgboost/sklearn.py:1395: UserWarning: `use_label_encoder` is deprecated in 1.7.0.\n",
      "  warnings.warn(\"`use_label_encoder` is deprecated in 1.7.0.\")\n",
      "/home/enrique.jimenez/miniconda3/envs/curso_ciencia_de_datos/lib/python3.8/site-packages/xgboost/sklearn.py:1395: UserWarning: `use_label_encoder` is deprecated in 1.7.0.\n",
      "  warnings.warn(\"`use_label_encoder` is deprecated in 1.7.0.\")\n",
      "/home/enrique.jimenez/miniconda3/envs/curso_ciencia_de_datos/lib/python3.8/site-packages/xgboost/sklearn.py:1395: UserWarning: `use_label_encoder` is deprecated in 1.7.0.\n",
      "  warnings.warn(\"`use_label_encoder` is deprecated in 1.7.0.\")\n",
      "/home/enrique.jimenez/miniconda3/envs/curso_ciencia_de_datos/lib/python3.8/site-packages/xgboost/sklearn.py:1395: UserWarning: `use_label_encoder` is deprecated in 1.7.0.\n",
      "  warnings.warn(\"`use_label_encoder` is deprecated in 1.7.0.\")\n",
      "/home/enrique.jimenez/miniconda3/envs/curso_ciencia_de_datos/lib/python3.8/site-packages/xgboost/sklearn.py:1395: UserWarning: `use_label_encoder` is deprecated in 1.7.0.\n",
      "  warnings.warn(\"`use_label_encoder` is deprecated in 1.7.0.\")\n",
      "/home/enrique.jimenez/miniconda3/envs/curso_ciencia_de_datos/lib/python3.8/site-packages/xgboost/sklearn.py:1395: UserWarning: `use_label_encoder` is deprecated in 1.7.0.\n",
      "  warnings.warn(\"`use_label_encoder` is deprecated in 1.7.0.\")\n",
      "/home/enrique.jimenez/miniconda3/envs/curso_ciencia_de_datos/lib/python3.8/site-packages/xgboost/sklearn.py:1395: UserWarning: `use_label_encoder` is deprecated in 1.7.0.\n",
      "  warnings.warn(\"`use_label_encoder` is deprecated in 1.7.0.\")\n",
      "/home/enrique.jimenez/miniconda3/envs/curso_ciencia_de_datos/lib/python3.8/site-packages/xgboost/sklearn.py:1395: UserWarning: `use_label_encoder` is deprecated in 1.7.0.\n",
      "  warnings.warn(\"`use_label_encoder` is deprecated in 1.7.0.\")\n",
      "/home/enrique.jimenez/miniconda3/envs/curso_ciencia_de_datos/lib/python3.8/site-packages/xgboost/sklearn.py:1395: UserWarning: `use_label_encoder` is deprecated in 1.7.0.\n",
      "  warnings.warn(\"`use_label_encoder` is deprecated in 1.7.0.\")\n",
      "/home/enrique.jimenez/miniconda3/envs/curso_ciencia_de_datos/lib/python3.8/site-packages/xgboost/sklearn.py:1395: UserWarning: `use_label_encoder` is deprecated in 1.7.0.\n",
      "  warnings.warn(\"`use_label_encoder` is deprecated in 1.7.0.\")\n"
     ]
    },
    {
     "name": "stderr",
     "output_type": "stream",
     "text": [
      "/home/enrique.jimenez/miniconda3/envs/curso_ciencia_de_datos/lib/python3.8/site-packages/xgboost/sklearn.py:1395: UserWarning: `use_label_encoder` is deprecated in 1.7.0.\n",
      "  warnings.warn(\"`use_label_encoder` is deprecated in 1.7.0.\")\n",
      "/home/enrique.jimenez/miniconda3/envs/curso_ciencia_de_datos/lib/python3.8/site-packages/xgboost/sklearn.py:1395: UserWarning: `use_label_encoder` is deprecated in 1.7.0.\n",
      "  warnings.warn(\"`use_label_encoder` is deprecated in 1.7.0.\")\n",
      "/home/enrique.jimenez/miniconda3/envs/curso_ciencia_de_datos/lib/python3.8/site-packages/xgboost/sklearn.py:1395: UserWarning: `use_label_encoder` is deprecated in 1.7.0.\n",
      "  warnings.warn(\"`use_label_encoder` is deprecated in 1.7.0.\")\n",
      "/home/enrique.jimenez/miniconda3/envs/curso_ciencia_de_datos/lib/python3.8/site-packages/xgboost/sklearn.py:1395: UserWarning: `use_label_encoder` is deprecated in 1.7.0.\n",
      "  warnings.warn(\"`use_label_encoder` is deprecated in 1.7.0.\")\n",
      "/home/enrique.jimenez/miniconda3/envs/curso_ciencia_de_datos/lib/python3.8/site-packages/xgboost/sklearn.py:1395: UserWarning: `use_label_encoder` is deprecated in 1.7.0.\n",
      "  warnings.warn(\"`use_label_encoder` is deprecated in 1.7.0.\")\n",
      "/home/enrique.jimenez/miniconda3/envs/curso_ciencia_de_datos/lib/python3.8/site-packages/xgboost/sklearn.py:1395: UserWarning: `use_label_encoder` is deprecated in 1.7.0.\n",
      "  warnings.warn(\"`use_label_encoder` is deprecated in 1.7.0.\")\n",
      "/home/enrique.jimenez/miniconda3/envs/curso_ciencia_de_datos/lib/python3.8/site-packages/xgboost/sklearn.py:1395: UserWarning: `use_label_encoder` is deprecated in 1.7.0.\n",
      "  warnings.warn(\"`use_label_encoder` is deprecated in 1.7.0.\")\n",
      "/home/enrique.jimenez/miniconda3/envs/curso_ciencia_de_datos/lib/python3.8/site-packages/xgboost/sklearn.py:1395: UserWarning: `use_label_encoder` is deprecated in 1.7.0.\n",
      "  warnings.warn(\"`use_label_encoder` is deprecated in 1.7.0.\")\n",
      "/home/enrique.jimenez/miniconda3/envs/curso_ciencia_de_datos/lib/python3.8/site-packages/xgboost/sklearn.py:1395: UserWarning: `use_label_encoder` is deprecated in 1.7.0.\n",
      "  warnings.warn(\"`use_label_encoder` is deprecated in 1.7.0.\")\n",
      "/home/enrique.jimenez/miniconda3/envs/curso_ciencia_de_datos/lib/python3.8/site-packages/xgboost/sklearn.py:1395: UserWarning: `use_label_encoder` is deprecated in 1.7.0.\n",
      "  warnings.warn(\"`use_label_encoder` is deprecated in 1.7.0.\")\n",
      "/home/enrique.jimenez/miniconda3/envs/curso_ciencia_de_datos/lib/python3.8/site-packages/xgboost/sklearn.py:1395: UserWarning: `use_label_encoder` is deprecated in 1.7.0.\n",
      "  warnings.warn(\"`use_label_encoder` is deprecated in 1.7.0.\")\n",
      "/home/enrique.jimenez/miniconda3/envs/curso_ciencia_de_datos/lib/python3.8/site-packages/xgboost/sklearn.py:1395: UserWarning: `use_label_encoder` is deprecated in 1.7.0.\n",
      "  warnings.warn(\"`use_label_encoder` is deprecated in 1.7.0.\")\n",
      "/home/enrique.jimenez/miniconda3/envs/curso_ciencia_de_datos/lib/python3.8/site-packages/xgboost/sklearn.py:1395: UserWarning: `use_label_encoder` is deprecated in 1.7.0.\n",
      "  warnings.warn(\"`use_label_encoder` is deprecated in 1.7.0.\")\n",
      "/home/enrique.jimenez/miniconda3/envs/curso_ciencia_de_datos/lib/python3.8/site-packages/xgboost/sklearn.py:1395: UserWarning: `use_label_encoder` is deprecated in 1.7.0.\n",
      "  warnings.warn(\"`use_label_encoder` is deprecated in 1.7.0.\")\n",
      "/home/enrique.jimenez/miniconda3/envs/curso_ciencia_de_datos/lib/python3.8/site-packages/xgboost/sklearn.py:1395: UserWarning: `use_label_encoder` is deprecated in 1.7.0.\n",
      "  warnings.warn(\"`use_label_encoder` is deprecated in 1.7.0.\")\n",
      "/home/enrique.jimenez/miniconda3/envs/curso_ciencia_de_datos/lib/python3.8/site-packages/xgboost/sklearn.py:1395: UserWarning: `use_label_encoder` is deprecated in 1.7.0.\n",
      "  warnings.warn(\"`use_label_encoder` is deprecated in 1.7.0.\")\n",
      "/home/enrique.jimenez/miniconda3/envs/curso_ciencia_de_datos/lib/python3.8/site-packages/xgboost/sklearn.py:1395: UserWarning: `use_label_encoder` is deprecated in 1.7.0.\n",
      "  warnings.warn(\"`use_label_encoder` is deprecated in 1.7.0.\")\n",
      "/home/enrique.jimenez/miniconda3/envs/curso_ciencia_de_datos/lib/python3.8/site-packages/xgboost/sklearn.py:1395: UserWarning: `use_label_encoder` is deprecated in 1.7.0.\n",
      "  warnings.warn(\"`use_label_encoder` is deprecated in 1.7.0.\")\n",
      "/home/enrique.jimenez/miniconda3/envs/curso_ciencia_de_datos/lib/python3.8/site-packages/xgboost/sklearn.py:1395: UserWarning: `use_label_encoder` is deprecated in 1.7.0.\n",
      "  warnings.warn(\"`use_label_encoder` is deprecated in 1.7.0.\")\n",
      "/home/enrique.jimenez/miniconda3/envs/curso_ciencia_de_datos/lib/python3.8/site-packages/xgboost/sklearn.py:1395: UserWarning: `use_label_encoder` is deprecated in 1.7.0.\n",
      "  warnings.warn(\"`use_label_encoder` is deprecated in 1.7.0.\")\n",
      "/home/enrique.jimenez/miniconda3/envs/curso_ciencia_de_datos/lib/python3.8/site-packages/xgboost/sklearn.py:1395: UserWarning: `use_label_encoder` is deprecated in 1.7.0.\n",
      "  warnings.warn(\"`use_label_encoder` is deprecated in 1.7.0.\")\n",
      "/home/enrique.jimenez/miniconda3/envs/curso_ciencia_de_datos/lib/python3.8/site-packages/xgboost/sklearn.py:1395: UserWarning: `use_label_encoder` is deprecated in 1.7.0.\n",
      "  warnings.warn(\"`use_label_encoder` is deprecated in 1.7.0.\")\n",
      "/home/enrique.jimenez/miniconda3/envs/curso_ciencia_de_datos/lib/python3.8/site-packages/xgboost/sklearn.py:1395: UserWarning: `use_label_encoder` is deprecated in 1.7.0.\n",
      "  warnings.warn(\"`use_label_encoder` is deprecated in 1.7.0.\")\n",
      "/home/enrique.jimenez/miniconda3/envs/curso_ciencia_de_datos/lib/python3.8/site-packages/xgboost/sklearn.py:1395: UserWarning: `use_label_encoder` is deprecated in 1.7.0.\n",
      "  warnings.warn(\"`use_label_encoder` is deprecated in 1.7.0.\")\n",
      "/home/enrique.jimenez/miniconda3/envs/curso_ciencia_de_datos/lib/python3.8/site-packages/xgboost/sklearn.py:1395: UserWarning: `use_label_encoder` is deprecated in 1.7.0.\n",
      "  warnings.warn(\"`use_label_encoder` is deprecated in 1.7.0.\")\n",
      "/home/enrique.jimenez/miniconda3/envs/curso_ciencia_de_datos/lib/python3.8/site-packages/xgboost/sklearn.py:1395: UserWarning: `use_label_encoder` is deprecated in 1.7.0.\n",
      "  warnings.warn(\"`use_label_encoder` is deprecated in 1.7.0.\")\n",
      "/home/enrique.jimenez/miniconda3/envs/curso_ciencia_de_datos/lib/python3.8/site-packages/xgboost/sklearn.py:1395: UserWarning: `use_label_encoder` is deprecated in 1.7.0.\n",
      "  warnings.warn(\"`use_label_encoder` is deprecated in 1.7.0.\")\n",
      "/home/enrique.jimenez/miniconda3/envs/curso_ciencia_de_datos/lib/python3.8/site-packages/xgboost/sklearn.py:1395: UserWarning: `use_label_encoder` is deprecated in 1.7.0.\n",
      "  warnings.warn(\"`use_label_encoder` is deprecated in 1.7.0.\")\n",
      "/home/enrique.jimenez/miniconda3/envs/curso_ciencia_de_datos/lib/python3.8/site-packages/xgboost/sklearn.py:1395: UserWarning: `use_label_encoder` is deprecated in 1.7.0.\n",
      "  warnings.warn(\"`use_label_encoder` is deprecated in 1.7.0.\")\n",
      "/home/enrique.jimenez/miniconda3/envs/curso_ciencia_de_datos/lib/python3.8/site-packages/xgboost/sklearn.py:1395: UserWarning: `use_label_encoder` is deprecated in 1.7.0.\n",
      "  warnings.warn(\"`use_label_encoder` is deprecated in 1.7.0.\")\n",
      "/home/enrique.jimenez/miniconda3/envs/curso_ciencia_de_datos/lib/python3.8/site-packages/xgboost/sklearn.py:1395: UserWarning: `use_label_encoder` is deprecated in 1.7.0.\n",
      "  warnings.warn(\"`use_label_encoder` is deprecated in 1.7.0.\")\n",
      "/home/enrique.jimenez/miniconda3/envs/curso_ciencia_de_datos/lib/python3.8/site-packages/xgboost/sklearn.py:1395: UserWarning: `use_label_encoder` is deprecated in 1.7.0.\n",
      "  warnings.warn(\"`use_label_encoder` is deprecated in 1.7.0.\")\n",
      "/home/enrique.jimenez/miniconda3/envs/curso_ciencia_de_datos/lib/python3.8/site-packages/xgboost/sklearn.py:1395: UserWarning: `use_label_encoder` is deprecated in 1.7.0.\n",
      "  warnings.warn(\"`use_label_encoder` is deprecated in 1.7.0.\")\n",
      "/home/enrique.jimenez/miniconda3/envs/curso_ciencia_de_datos/lib/python3.8/site-packages/xgboost/sklearn.py:1395: UserWarning: `use_label_encoder` is deprecated in 1.7.0.\n",
      "  warnings.warn(\"`use_label_encoder` is deprecated in 1.7.0.\")\n",
      "/home/enrique.jimenez/miniconda3/envs/curso_ciencia_de_datos/lib/python3.8/site-packages/xgboost/sklearn.py:1395: UserWarning: `use_label_encoder` is deprecated in 1.7.0.\n",
      "  warnings.warn(\"`use_label_encoder` is deprecated in 1.7.0.\")\n",
      "/home/enrique.jimenez/miniconda3/envs/curso_ciencia_de_datos/lib/python3.8/site-packages/xgboost/sklearn.py:1395: UserWarning: `use_label_encoder` is deprecated in 1.7.0.\n",
      "  warnings.warn(\"`use_label_encoder` is deprecated in 1.7.0.\")\n"
     ]
    },
    {
     "name": "stderr",
     "output_type": "stream",
     "text": [
      "/home/enrique.jimenez/miniconda3/envs/curso_ciencia_de_datos/lib/python3.8/site-packages/xgboost/sklearn.py:1395: UserWarning: `use_label_encoder` is deprecated in 1.7.0.\n",
      "  warnings.warn(\"`use_label_encoder` is deprecated in 1.7.0.\")\n",
      "/home/enrique.jimenez/miniconda3/envs/curso_ciencia_de_datos/lib/python3.8/site-packages/xgboost/sklearn.py:1395: UserWarning: `use_label_encoder` is deprecated in 1.7.0.\n",
      "  warnings.warn(\"`use_label_encoder` is deprecated in 1.7.0.\")\n",
      "/home/enrique.jimenez/miniconda3/envs/curso_ciencia_de_datos/lib/python3.8/site-packages/xgboost/sklearn.py:1395: UserWarning: `use_label_encoder` is deprecated in 1.7.0.\n",
      "  warnings.warn(\"`use_label_encoder` is deprecated in 1.7.0.\")\n",
      "/home/enrique.jimenez/miniconda3/envs/curso_ciencia_de_datos/lib/python3.8/site-packages/xgboost/sklearn.py:1395: UserWarning: `use_label_encoder` is deprecated in 1.7.0.\n",
      "  warnings.warn(\"`use_label_encoder` is deprecated in 1.7.0.\")\n",
      "/home/enrique.jimenez/miniconda3/envs/curso_ciencia_de_datos/lib/python3.8/site-packages/xgboost/sklearn.py:1395: UserWarning: `use_label_encoder` is deprecated in 1.7.0.\n",
      "  warnings.warn(\"`use_label_encoder` is deprecated in 1.7.0.\")\n",
      "/home/enrique.jimenez/miniconda3/envs/curso_ciencia_de_datos/lib/python3.8/site-packages/xgboost/sklearn.py:1395: UserWarning: `use_label_encoder` is deprecated in 1.7.0.\n",
      "  warnings.warn(\"`use_label_encoder` is deprecated in 1.7.0.\")\n",
      "/home/enrique.jimenez/miniconda3/envs/curso_ciencia_de_datos/lib/python3.8/site-packages/xgboost/sklearn.py:1395: UserWarning: `use_label_encoder` is deprecated in 1.7.0.\n",
      "  warnings.warn(\"`use_label_encoder` is deprecated in 1.7.0.\")\n",
      "/home/enrique.jimenez/miniconda3/envs/curso_ciencia_de_datos/lib/python3.8/site-packages/xgboost/sklearn.py:1395: UserWarning: `use_label_encoder` is deprecated in 1.7.0.\n",
      "  warnings.warn(\"`use_label_encoder` is deprecated in 1.7.0.\")\n",
      "/home/enrique.jimenez/miniconda3/envs/curso_ciencia_de_datos/lib/python3.8/site-packages/xgboost/sklearn.py:1395: UserWarning: `use_label_encoder` is deprecated in 1.7.0.\n",
      "  warnings.warn(\"`use_label_encoder` is deprecated in 1.7.0.\")\n",
      "/home/enrique.jimenez/miniconda3/envs/curso_ciencia_de_datos/lib/python3.8/site-packages/xgboost/sklearn.py:1395: UserWarning: `use_label_encoder` is deprecated in 1.7.0.\n",
      "  warnings.warn(\"`use_label_encoder` is deprecated in 1.7.0.\")\n",
      "/home/enrique.jimenez/miniconda3/envs/curso_ciencia_de_datos/lib/python3.8/site-packages/xgboost/sklearn.py:1395: UserWarning: `use_label_encoder` is deprecated in 1.7.0.\n",
      "  warnings.warn(\"`use_label_encoder` is deprecated in 1.7.0.\")\n",
      "/home/enrique.jimenez/miniconda3/envs/curso_ciencia_de_datos/lib/python3.8/site-packages/xgboost/sklearn.py:1395: UserWarning: `use_label_encoder` is deprecated in 1.7.0.\n",
      "  warnings.warn(\"`use_label_encoder` is deprecated in 1.7.0.\")\n",
      "/home/enrique.jimenez/miniconda3/envs/curso_ciencia_de_datos/lib/python3.8/site-packages/xgboost/sklearn.py:1395: UserWarning: `use_label_encoder` is deprecated in 1.7.0.\n",
      "  warnings.warn(\"`use_label_encoder` is deprecated in 1.7.0.\")\n",
      "/home/enrique.jimenez/miniconda3/envs/curso_ciencia_de_datos/lib/python3.8/site-packages/xgboost/sklearn.py:1395: UserWarning: `use_label_encoder` is deprecated in 1.7.0.\n",
      "  warnings.warn(\"`use_label_encoder` is deprecated in 1.7.0.\")\n",
      "/home/enrique.jimenez/miniconda3/envs/curso_ciencia_de_datos/lib/python3.8/site-packages/xgboost/sklearn.py:1395: UserWarning: `use_label_encoder` is deprecated in 1.7.0.\n",
      "  warnings.warn(\"`use_label_encoder` is deprecated in 1.7.0.\")\n",
      "/home/enrique.jimenez/miniconda3/envs/curso_ciencia_de_datos/lib/python3.8/site-packages/xgboost/sklearn.py:1395: UserWarning: `use_label_encoder` is deprecated in 1.7.0.\n",
      "  warnings.warn(\"`use_label_encoder` is deprecated in 1.7.0.\")\n",
      "/home/enrique.jimenez/miniconda3/envs/curso_ciencia_de_datos/lib/python3.8/site-packages/xgboost/sklearn.py:1395: UserWarning: `use_label_encoder` is deprecated in 1.7.0.\n",
      "  warnings.warn(\"`use_label_encoder` is deprecated in 1.7.0.\")\n",
      "/home/enrique.jimenez/miniconda3/envs/curso_ciencia_de_datos/lib/python3.8/site-packages/xgboost/sklearn.py:1395: UserWarning: `use_label_encoder` is deprecated in 1.7.0.\n",
      "  warnings.warn(\"`use_label_encoder` is deprecated in 1.7.0.\")\n",
      "/home/enrique.jimenez/miniconda3/envs/curso_ciencia_de_datos/lib/python3.8/site-packages/xgboost/sklearn.py:1395: UserWarning: `use_label_encoder` is deprecated in 1.7.0.\n",
      "  warnings.warn(\"`use_label_encoder` is deprecated in 1.7.0.\")\n",
      "/home/enrique.jimenez/miniconda3/envs/curso_ciencia_de_datos/lib/python3.8/site-packages/xgboost/sklearn.py:1395: UserWarning: `use_label_encoder` is deprecated in 1.7.0.\n",
      "  warnings.warn(\"`use_label_encoder` is deprecated in 1.7.0.\")\n",
      "/home/enrique.jimenez/miniconda3/envs/curso_ciencia_de_datos/lib/python3.8/site-packages/xgboost/sklearn.py:1395: UserWarning: `use_label_encoder` is deprecated in 1.7.0.\n",
      "  warnings.warn(\"`use_label_encoder` is deprecated in 1.7.0.\")\n",
      "/home/enrique.jimenez/miniconda3/envs/curso_ciencia_de_datos/lib/python3.8/site-packages/xgboost/sklearn.py:1395: UserWarning: `use_label_encoder` is deprecated in 1.7.0.\n",
      "  warnings.warn(\"`use_label_encoder` is deprecated in 1.7.0.\")\n",
      "/home/enrique.jimenez/miniconda3/envs/curso_ciencia_de_datos/lib/python3.8/site-packages/xgboost/sklearn.py:1395: UserWarning: `use_label_encoder` is deprecated in 1.7.0.\n",
      "  warnings.warn(\"`use_label_encoder` is deprecated in 1.7.0.\")\n",
      "/home/enrique.jimenez/miniconda3/envs/curso_ciencia_de_datos/lib/python3.8/site-packages/xgboost/sklearn.py:1395: UserWarning: `use_label_encoder` is deprecated in 1.7.0.\n",
      "  warnings.warn(\"`use_label_encoder` is deprecated in 1.7.0.\")\n",
      "/home/enrique.jimenez/miniconda3/envs/curso_ciencia_de_datos/lib/python3.8/site-packages/xgboost/sklearn.py:1395: UserWarning: `use_label_encoder` is deprecated in 1.7.0.\n",
      "  warnings.warn(\"`use_label_encoder` is deprecated in 1.7.0.\")\n",
      "/home/enrique.jimenez/miniconda3/envs/curso_ciencia_de_datos/lib/python3.8/site-packages/xgboost/sklearn.py:1395: UserWarning: `use_label_encoder` is deprecated in 1.7.0.\n",
      "  warnings.warn(\"`use_label_encoder` is deprecated in 1.7.0.\")\n",
      "/home/enrique.jimenez/miniconda3/envs/curso_ciencia_de_datos/lib/python3.8/site-packages/xgboost/sklearn.py:1395: UserWarning: `use_label_encoder` is deprecated in 1.7.0.\n",
      "  warnings.warn(\"`use_label_encoder` is deprecated in 1.7.0.\")\n",
      "/home/enrique.jimenez/miniconda3/envs/curso_ciencia_de_datos/lib/python3.8/site-packages/xgboost/sklearn.py:1395: UserWarning: `use_label_encoder` is deprecated in 1.7.0.\n",
      "  warnings.warn(\"`use_label_encoder` is deprecated in 1.7.0.\")\n",
      "/home/enrique.jimenez/miniconda3/envs/curso_ciencia_de_datos/lib/python3.8/site-packages/xgboost/sklearn.py:1395: UserWarning: `use_label_encoder` is deprecated in 1.7.0.\n",
      "  warnings.warn(\"`use_label_encoder` is deprecated in 1.7.0.\")\n",
      "/home/enrique.jimenez/miniconda3/envs/curso_ciencia_de_datos/lib/python3.8/site-packages/xgboost/sklearn.py:1395: UserWarning: `use_label_encoder` is deprecated in 1.7.0.\n",
      "  warnings.warn(\"`use_label_encoder` is deprecated in 1.7.0.\")\n",
      "/home/enrique.jimenez/miniconda3/envs/curso_ciencia_de_datos/lib/python3.8/site-packages/xgboost/sklearn.py:1395: UserWarning: `use_label_encoder` is deprecated in 1.7.0.\n",
      "  warnings.warn(\"`use_label_encoder` is deprecated in 1.7.0.\")\n",
      "/home/enrique.jimenez/miniconda3/envs/curso_ciencia_de_datos/lib/python3.8/site-packages/xgboost/sklearn.py:1395: UserWarning: `use_label_encoder` is deprecated in 1.7.0.\n",
      "  warnings.warn(\"`use_label_encoder` is deprecated in 1.7.0.\")\n",
      "/home/enrique.jimenez/miniconda3/envs/curso_ciencia_de_datos/lib/python3.8/site-packages/xgboost/sklearn.py:1395: UserWarning: `use_label_encoder` is deprecated in 1.7.0.\n",
      "  warnings.warn(\"`use_label_encoder` is deprecated in 1.7.0.\")\n",
      "/home/enrique.jimenez/miniconda3/envs/curso_ciencia_de_datos/lib/python3.8/site-packages/xgboost/sklearn.py:1395: UserWarning: `use_label_encoder` is deprecated in 1.7.0.\n",
      "  warnings.warn(\"`use_label_encoder` is deprecated in 1.7.0.\")\n",
      "/home/enrique.jimenez/miniconda3/envs/curso_ciencia_de_datos/lib/python3.8/site-packages/xgboost/sklearn.py:1395: UserWarning: `use_label_encoder` is deprecated in 1.7.0.\n",
      "  warnings.warn(\"`use_label_encoder` is deprecated in 1.7.0.\")\n",
      "/home/enrique.jimenez/miniconda3/envs/curso_ciencia_de_datos/lib/python3.8/site-packages/xgboost/sklearn.py:1395: UserWarning: `use_label_encoder` is deprecated in 1.7.0.\n",
      "  warnings.warn(\"`use_label_encoder` is deprecated in 1.7.0.\")\n"
     ]
    },
    {
     "name": "stderr",
     "output_type": "stream",
     "text": [
      "/home/enrique.jimenez/miniconda3/envs/curso_ciencia_de_datos/lib/python3.8/site-packages/xgboost/sklearn.py:1395: UserWarning: `use_label_encoder` is deprecated in 1.7.0.\n",
      "  warnings.warn(\"`use_label_encoder` is deprecated in 1.7.0.\")\n",
      "/home/enrique.jimenez/miniconda3/envs/curso_ciencia_de_datos/lib/python3.8/site-packages/xgboost/sklearn.py:1395: UserWarning: `use_label_encoder` is deprecated in 1.7.0.\n",
      "  warnings.warn(\"`use_label_encoder` is deprecated in 1.7.0.\")\n",
      "/home/enrique.jimenez/miniconda3/envs/curso_ciencia_de_datos/lib/python3.8/site-packages/xgboost/sklearn.py:1395: UserWarning: `use_label_encoder` is deprecated in 1.7.0.\n",
      "  warnings.warn(\"`use_label_encoder` is deprecated in 1.7.0.\")\n",
      "/home/enrique.jimenez/miniconda3/envs/curso_ciencia_de_datos/lib/python3.8/site-packages/xgboost/sklearn.py:1395: UserWarning: `use_label_encoder` is deprecated in 1.7.0.\n",
      "  warnings.warn(\"`use_label_encoder` is deprecated in 1.7.0.\")\n",
      "/home/enrique.jimenez/miniconda3/envs/curso_ciencia_de_datos/lib/python3.8/site-packages/xgboost/sklearn.py:1395: UserWarning: `use_label_encoder` is deprecated in 1.7.0.\n",
      "  warnings.warn(\"`use_label_encoder` is deprecated in 1.7.0.\")\n",
      "/home/enrique.jimenez/miniconda3/envs/curso_ciencia_de_datos/lib/python3.8/site-packages/xgboost/sklearn.py:1395: UserWarning: `use_label_encoder` is deprecated in 1.7.0.\n",
      "  warnings.warn(\"`use_label_encoder` is deprecated in 1.7.0.\")\n",
      "/home/enrique.jimenez/miniconda3/envs/curso_ciencia_de_datos/lib/python3.8/site-packages/xgboost/sklearn.py:1395: UserWarning: `use_label_encoder` is deprecated in 1.7.0.\n",
      "  warnings.warn(\"`use_label_encoder` is deprecated in 1.7.0.\")\n",
      "/home/enrique.jimenez/miniconda3/envs/curso_ciencia_de_datos/lib/python3.8/site-packages/xgboost/sklearn.py:1395: UserWarning: `use_label_encoder` is deprecated in 1.7.0.\n",
      "  warnings.warn(\"`use_label_encoder` is deprecated in 1.7.0.\")\n",
      "/home/enrique.jimenez/miniconda3/envs/curso_ciencia_de_datos/lib/python3.8/site-packages/xgboost/sklearn.py:1395: UserWarning: `use_label_encoder` is deprecated in 1.7.0.\n",
      "  warnings.warn(\"`use_label_encoder` is deprecated in 1.7.0.\")\n",
      "/home/enrique.jimenez/miniconda3/envs/curso_ciencia_de_datos/lib/python3.8/site-packages/xgboost/sklearn.py:1395: UserWarning: `use_label_encoder` is deprecated in 1.7.0.\n",
      "  warnings.warn(\"`use_label_encoder` is deprecated in 1.7.0.\")\n",
      "/home/enrique.jimenez/miniconda3/envs/curso_ciencia_de_datos/lib/python3.8/site-packages/xgboost/sklearn.py:1395: UserWarning: `use_label_encoder` is deprecated in 1.7.0.\n",
      "  warnings.warn(\"`use_label_encoder` is deprecated in 1.7.0.\")\n",
      "/home/enrique.jimenez/miniconda3/envs/curso_ciencia_de_datos/lib/python3.8/site-packages/xgboost/sklearn.py:1395: UserWarning: `use_label_encoder` is deprecated in 1.7.0.\n",
      "  warnings.warn(\"`use_label_encoder` is deprecated in 1.7.0.\")\n",
      "/home/enrique.jimenez/miniconda3/envs/curso_ciencia_de_datos/lib/python3.8/site-packages/xgboost/sklearn.py:1395: UserWarning: `use_label_encoder` is deprecated in 1.7.0.\n",
      "  warnings.warn(\"`use_label_encoder` is deprecated in 1.7.0.\")\n",
      "/home/enrique.jimenez/miniconda3/envs/curso_ciencia_de_datos/lib/python3.8/site-packages/xgboost/sklearn.py:1395: UserWarning: `use_label_encoder` is deprecated in 1.7.0.\n",
      "  warnings.warn(\"`use_label_encoder` is deprecated in 1.7.0.\")\n",
      "/home/enrique.jimenez/miniconda3/envs/curso_ciencia_de_datos/lib/python3.8/site-packages/xgboost/sklearn.py:1395: UserWarning: `use_label_encoder` is deprecated in 1.7.0.\n",
      "  warnings.warn(\"`use_label_encoder` is deprecated in 1.7.0.\")\n",
      "/home/enrique.jimenez/miniconda3/envs/curso_ciencia_de_datos/lib/python3.8/site-packages/xgboost/sklearn.py:1395: UserWarning: `use_label_encoder` is deprecated in 1.7.0.\n",
      "  warnings.warn(\"`use_label_encoder` is deprecated in 1.7.0.\")\n",
      "/home/enrique.jimenez/miniconda3/envs/curso_ciencia_de_datos/lib/python3.8/site-packages/xgboost/sklearn.py:1395: UserWarning: `use_label_encoder` is deprecated in 1.7.0.\n",
      "  warnings.warn(\"`use_label_encoder` is deprecated in 1.7.0.\")\n",
      "/home/enrique.jimenez/miniconda3/envs/curso_ciencia_de_datos/lib/python3.8/site-packages/xgboost/sklearn.py:1395: UserWarning: `use_label_encoder` is deprecated in 1.7.0.\n",
      "  warnings.warn(\"`use_label_encoder` is deprecated in 1.7.0.\")\n",
      "/home/enrique.jimenez/miniconda3/envs/curso_ciencia_de_datos/lib/python3.8/site-packages/xgboost/sklearn.py:1395: UserWarning: `use_label_encoder` is deprecated in 1.7.0.\n",
      "  warnings.warn(\"`use_label_encoder` is deprecated in 1.7.0.\")\n",
      "/home/enrique.jimenez/miniconda3/envs/curso_ciencia_de_datos/lib/python3.8/site-packages/xgboost/sklearn.py:1395: UserWarning: `use_label_encoder` is deprecated in 1.7.0.\n",
      "  warnings.warn(\"`use_label_encoder` is deprecated in 1.7.0.\")\n",
      "/home/enrique.jimenez/miniconda3/envs/curso_ciencia_de_datos/lib/python3.8/site-packages/xgboost/sklearn.py:1395: UserWarning: `use_label_encoder` is deprecated in 1.7.0.\n",
      "  warnings.warn(\"`use_label_encoder` is deprecated in 1.7.0.\")\n",
      "/home/enrique.jimenez/miniconda3/envs/curso_ciencia_de_datos/lib/python3.8/site-packages/xgboost/sklearn.py:1395: UserWarning: `use_label_encoder` is deprecated in 1.7.0.\n",
      "  warnings.warn(\"`use_label_encoder` is deprecated in 1.7.0.\")\n",
      "/home/enrique.jimenez/miniconda3/envs/curso_ciencia_de_datos/lib/python3.8/site-packages/xgboost/sklearn.py:1395: UserWarning: `use_label_encoder` is deprecated in 1.7.0.\n",
      "  warnings.warn(\"`use_label_encoder` is deprecated in 1.7.0.\")\n",
      "/home/enrique.jimenez/miniconda3/envs/curso_ciencia_de_datos/lib/python3.8/site-packages/xgboost/sklearn.py:1395: UserWarning: `use_label_encoder` is deprecated in 1.7.0.\n",
      "  warnings.warn(\"`use_label_encoder` is deprecated in 1.7.0.\")\n",
      "/home/enrique.jimenez/miniconda3/envs/curso_ciencia_de_datos/lib/python3.8/site-packages/xgboost/sklearn.py:1395: UserWarning: `use_label_encoder` is deprecated in 1.7.0.\n",
      "  warnings.warn(\"`use_label_encoder` is deprecated in 1.7.0.\")\n",
      "/home/enrique.jimenez/miniconda3/envs/curso_ciencia_de_datos/lib/python3.8/site-packages/xgboost/sklearn.py:1395: UserWarning: `use_label_encoder` is deprecated in 1.7.0.\n",
      "  warnings.warn(\"`use_label_encoder` is deprecated in 1.7.0.\")\n",
      "/home/enrique.jimenez/miniconda3/envs/curso_ciencia_de_datos/lib/python3.8/site-packages/xgboost/sklearn.py:1395: UserWarning: `use_label_encoder` is deprecated in 1.7.0.\n",
      "  warnings.warn(\"`use_label_encoder` is deprecated in 1.7.0.\")\n",
      "/home/enrique.jimenez/miniconda3/envs/curso_ciencia_de_datos/lib/python3.8/site-packages/xgboost/sklearn.py:1395: UserWarning: `use_label_encoder` is deprecated in 1.7.0.\n",
      "  warnings.warn(\"`use_label_encoder` is deprecated in 1.7.0.\")\n",
      "/home/enrique.jimenez/miniconda3/envs/curso_ciencia_de_datos/lib/python3.8/site-packages/xgboost/sklearn.py:1395: UserWarning: `use_label_encoder` is deprecated in 1.7.0.\n",
      "  warnings.warn(\"`use_label_encoder` is deprecated in 1.7.0.\")\n",
      "/home/enrique.jimenez/miniconda3/envs/curso_ciencia_de_datos/lib/python3.8/site-packages/xgboost/sklearn.py:1395: UserWarning: `use_label_encoder` is deprecated in 1.7.0.\n",
      "  warnings.warn(\"`use_label_encoder` is deprecated in 1.7.0.\")\n",
      "/home/enrique.jimenez/miniconda3/envs/curso_ciencia_de_datos/lib/python3.8/site-packages/xgboost/sklearn.py:1395: UserWarning: `use_label_encoder` is deprecated in 1.7.0.\n",
      "  warnings.warn(\"`use_label_encoder` is deprecated in 1.7.0.\")\n",
      "/home/enrique.jimenez/miniconda3/envs/curso_ciencia_de_datos/lib/python3.8/site-packages/xgboost/sklearn.py:1395: UserWarning: `use_label_encoder` is deprecated in 1.7.0.\n",
      "  warnings.warn(\"`use_label_encoder` is deprecated in 1.7.0.\")\n",
      "/home/enrique.jimenez/miniconda3/envs/curso_ciencia_de_datos/lib/python3.8/site-packages/xgboost/sklearn.py:1395: UserWarning: `use_label_encoder` is deprecated in 1.7.0.\n",
      "  warnings.warn(\"`use_label_encoder` is deprecated in 1.7.0.\")\n",
      "/home/enrique.jimenez/miniconda3/envs/curso_ciencia_de_datos/lib/python3.8/site-packages/xgboost/sklearn.py:1395: UserWarning: `use_label_encoder` is deprecated in 1.7.0.\n",
      "  warnings.warn(\"`use_label_encoder` is deprecated in 1.7.0.\")\n",
      "/home/enrique.jimenez/miniconda3/envs/curso_ciencia_de_datos/lib/python3.8/site-packages/xgboost/sklearn.py:1395: UserWarning: `use_label_encoder` is deprecated in 1.7.0.\n",
      "  warnings.warn(\"`use_label_encoder` is deprecated in 1.7.0.\")\n",
      "/home/enrique.jimenez/miniconda3/envs/curso_ciencia_de_datos/lib/python3.8/site-packages/xgboost/sklearn.py:1395: UserWarning: `use_label_encoder` is deprecated in 1.7.0.\n",
      "  warnings.warn(\"`use_label_encoder` is deprecated in 1.7.0.\")\n"
     ]
    },
    {
     "name": "stderr",
     "output_type": "stream",
     "text": [
      "/home/enrique.jimenez/miniconda3/envs/curso_ciencia_de_datos/lib/python3.8/site-packages/xgboost/sklearn.py:1395: UserWarning: `use_label_encoder` is deprecated in 1.7.0.\n",
      "  warnings.warn(\"`use_label_encoder` is deprecated in 1.7.0.\")\n",
      "/home/enrique.jimenez/miniconda3/envs/curso_ciencia_de_datos/lib/python3.8/site-packages/xgboost/sklearn.py:1395: UserWarning: `use_label_encoder` is deprecated in 1.7.0.\n",
      "  warnings.warn(\"`use_label_encoder` is deprecated in 1.7.0.\")\n",
      "/home/enrique.jimenez/miniconda3/envs/curso_ciencia_de_datos/lib/python3.8/site-packages/xgboost/sklearn.py:1395: UserWarning: `use_label_encoder` is deprecated in 1.7.0.\n",
      "  warnings.warn(\"`use_label_encoder` is deprecated in 1.7.0.\")\n",
      "/home/enrique.jimenez/miniconda3/envs/curso_ciencia_de_datos/lib/python3.8/site-packages/xgboost/sklearn.py:1395: UserWarning: `use_label_encoder` is deprecated in 1.7.0.\n",
      "  warnings.warn(\"`use_label_encoder` is deprecated in 1.7.0.\")\n",
      "/home/enrique.jimenez/miniconda3/envs/curso_ciencia_de_datos/lib/python3.8/site-packages/xgboost/sklearn.py:1395: UserWarning: `use_label_encoder` is deprecated in 1.7.0.\n",
      "  warnings.warn(\"`use_label_encoder` is deprecated in 1.7.0.\")\n",
      "/home/enrique.jimenez/miniconda3/envs/curso_ciencia_de_datos/lib/python3.8/site-packages/xgboost/sklearn.py:1395: UserWarning: `use_label_encoder` is deprecated in 1.7.0.\n",
      "  warnings.warn(\"`use_label_encoder` is deprecated in 1.7.0.\")\n",
      "/home/enrique.jimenez/miniconda3/envs/curso_ciencia_de_datos/lib/python3.8/site-packages/xgboost/sklearn.py:1395: UserWarning: `use_label_encoder` is deprecated in 1.7.0.\n",
      "  warnings.warn(\"`use_label_encoder` is deprecated in 1.7.0.\")\n",
      "/home/enrique.jimenez/miniconda3/envs/curso_ciencia_de_datos/lib/python3.8/site-packages/xgboost/sklearn.py:1395: UserWarning: `use_label_encoder` is deprecated in 1.7.0.\n",
      "  warnings.warn(\"`use_label_encoder` is deprecated in 1.7.0.\")\n",
      "/home/enrique.jimenez/miniconda3/envs/curso_ciencia_de_datos/lib/python3.8/site-packages/xgboost/sklearn.py:1395: UserWarning: `use_label_encoder` is deprecated in 1.7.0.\n",
      "  warnings.warn(\"`use_label_encoder` is deprecated in 1.7.0.\")\n",
      "/home/enrique.jimenez/miniconda3/envs/curso_ciencia_de_datos/lib/python3.8/site-packages/xgboost/sklearn.py:1395: UserWarning: `use_label_encoder` is deprecated in 1.7.0.\n",
      "  warnings.warn(\"`use_label_encoder` is deprecated in 1.7.0.\")\n",
      "/home/enrique.jimenez/miniconda3/envs/curso_ciencia_de_datos/lib/python3.8/site-packages/xgboost/sklearn.py:1395: UserWarning: `use_label_encoder` is deprecated in 1.7.0.\n",
      "  warnings.warn(\"`use_label_encoder` is deprecated in 1.7.0.\")\n",
      "/home/enrique.jimenez/miniconda3/envs/curso_ciencia_de_datos/lib/python3.8/site-packages/xgboost/sklearn.py:1395: UserWarning: `use_label_encoder` is deprecated in 1.7.0.\n",
      "  warnings.warn(\"`use_label_encoder` is deprecated in 1.7.0.\")\n",
      "/home/enrique.jimenez/miniconda3/envs/curso_ciencia_de_datos/lib/python3.8/site-packages/xgboost/sklearn.py:1395: UserWarning: `use_label_encoder` is deprecated in 1.7.0.\n",
      "  warnings.warn(\"`use_label_encoder` is deprecated in 1.7.0.\")\n",
      "/home/enrique.jimenez/miniconda3/envs/curso_ciencia_de_datos/lib/python3.8/site-packages/xgboost/sklearn.py:1395: UserWarning: `use_label_encoder` is deprecated in 1.7.0.\n",
      "  warnings.warn(\"`use_label_encoder` is deprecated in 1.7.0.\")\n",
      "/home/enrique.jimenez/miniconda3/envs/curso_ciencia_de_datos/lib/python3.8/site-packages/xgboost/sklearn.py:1395: UserWarning: `use_label_encoder` is deprecated in 1.7.0.\n",
      "  warnings.warn(\"`use_label_encoder` is deprecated in 1.7.0.\")\n",
      "/home/enrique.jimenez/miniconda3/envs/curso_ciencia_de_datos/lib/python3.8/site-packages/xgboost/sklearn.py:1395: UserWarning: `use_label_encoder` is deprecated in 1.7.0.\n",
      "  warnings.warn(\"`use_label_encoder` is deprecated in 1.7.0.\")\n",
      "/home/enrique.jimenez/miniconda3/envs/curso_ciencia_de_datos/lib/python3.8/site-packages/xgboost/sklearn.py:1395: UserWarning: `use_label_encoder` is deprecated in 1.7.0.\n",
      "  warnings.warn(\"`use_label_encoder` is deprecated in 1.7.0.\")\n",
      "/home/enrique.jimenez/miniconda3/envs/curso_ciencia_de_datos/lib/python3.8/site-packages/xgboost/sklearn.py:1395: UserWarning: `use_label_encoder` is deprecated in 1.7.0.\n",
      "  warnings.warn(\"`use_label_encoder` is deprecated in 1.7.0.\")\n",
      "/home/enrique.jimenez/miniconda3/envs/curso_ciencia_de_datos/lib/python3.8/site-packages/xgboost/sklearn.py:1395: UserWarning: `use_label_encoder` is deprecated in 1.7.0.\n",
      "  warnings.warn(\"`use_label_encoder` is deprecated in 1.7.0.\")\n",
      "/home/enrique.jimenez/miniconda3/envs/curso_ciencia_de_datos/lib/python3.8/site-packages/xgboost/sklearn.py:1395: UserWarning: `use_label_encoder` is deprecated in 1.7.0.\n",
      "  warnings.warn(\"`use_label_encoder` is deprecated in 1.7.0.\")\n",
      "/home/enrique.jimenez/miniconda3/envs/curso_ciencia_de_datos/lib/python3.8/site-packages/xgboost/sklearn.py:1395: UserWarning: `use_label_encoder` is deprecated in 1.7.0.\n",
      "  warnings.warn(\"`use_label_encoder` is deprecated in 1.7.0.\")\n",
      "/home/enrique.jimenez/miniconda3/envs/curso_ciencia_de_datos/lib/python3.8/site-packages/xgboost/sklearn.py:1395: UserWarning: `use_label_encoder` is deprecated in 1.7.0.\n",
      "  warnings.warn(\"`use_label_encoder` is deprecated in 1.7.0.\")\n",
      "/home/enrique.jimenez/miniconda3/envs/curso_ciencia_de_datos/lib/python3.8/site-packages/xgboost/sklearn.py:1395: UserWarning: `use_label_encoder` is deprecated in 1.7.0.\n",
      "  warnings.warn(\"`use_label_encoder` is deprecated in 1.7.0.\")\n"
     ]
    },
    {
     "data": {
      "text/plain": [
       "{'max_depth': 8, 'n_estimators': 50}"
      ]
     },
     "execution_count": 13,
     "metadata": {},
     "output_type": "execute_result"
    }
   ],
   "source": [
    "parameters = {'max_depth':[8,9,10,11,12,13,14,15],'n_estimators':[50,100,150,200,250],}\n",
    "xbgc = XGBClassifier(use_label_encoder=False, eval_metric='mlogloss',random_state=1)\n",
    "clf = GridSearchCV(xbgc, parameters)\n",
    "clf.fit(X_train,y_train)\n",
    "clf.best_params_"
   ]
  },
  {
   "cell_type": "markdown",
   "id": "331ffee4",
   "metadata": {},
   "source": [
    "## Naive Bayes Classifier"
   ]
  },
  {
   "cell_type": "code",
   "execution_count": 21,
   "id": "7ae294c9",
   "metadata": {},
   "outputs": [
    {
     "data": {
      "text/plain": [
       "0.7559827383287564"
      ]
     },
     "execution_count": 21,
     "metadata": {},
     "output_type": "execute_result"
    }
   ],
   "source": [
    "gnb = GaussianNB()\n",
    "y_pred = gnb.fit(X_train, y_train).predict(X_test)\n",
    "accuracy_score(y_test, y_pred)"
   ]
  },
  {
   "cell_type": "code",
   "execution_count": 23,
   "id": "f6760d8b",
   "metadata": {},
   "outputs": [
    {
     "data": {
      "image/png": "[encoded data removed]",
      "text/plain": [
       "<Figure size 640x480 with 2 Axes>"
      ]
     },
     "metadata": {},
     "output_type": "display_data"
    }
   ],
   "source": [
    "confusion_matrix = metrics.confusion_matrix(y_test, y_pred)\n",
    "\n",
    "cm_display = metrics.ConfusionMatrixDisplay(confusion_matrix = confusion_matrix, display_labels = [False, True])\n",
    "\n",
    "cm_display.plot()\n",
    "plt.show() "
   ]
  },
  {
   "cell_type": "markdown",
   "id": "cb14a973",
   "metadata": {},
   "source": [
    "## Redes de Neuronas"
   ]
  },
  {
   "cell_type": "code",
   "execution_count": 10,
   "id": "2b8bed60",
   "metadata": {},
   "outputs": [],
   "source": [
    "df = pd.read_csv('data/space_etl2.csv',skipinitialspace=True)\n",
    "df['VIP'] = df['VIP'].astype(int)\n",
    "df['CryoSleep'] = df['CryoSleep'].astype(int)"
   ]
  },
  {
   "cell_type": "code",
   "execution_count": 11,
   "id": "64749ffb",
   "metadata": {},
   "outputs": [],
   "source": [
    "y = df.Transported\n",
    "X = df.drop(['Transported','Cabin'],axis=1)"
   ]
  },
  {
   "cell_type": "code",
   "execution_count": 12,
   "id": "80604491",
   "metadata": {},
   "outputs": [],
   "source": [
    "X_train, X_test, y_train, y_test = train_test_split(X, y, test_size=0.3, random_state=1)"
   ]
  },
  {
   "cell_type": "code",
   "execution_count": 13,
   "id": "ed58ff8d",
   "metadata": {},
   "outputs": [],
   "source": [
    "input_shape= [X_train.shape[1]]"
   ]
  },
  {
   "cell_type": "code",
   "execution_count": 14,
   "id": "e55b5229",
   "metadata": {},
   "outputs": [
    {
     "name": "stderr",
     "output_type": "stream",
     "text": [
      "2023-04-05 09:49:46.170745: I tensorflow/core/platform/cpu_feature_guard.cc:193] This TensorFlow binary is optimized with oneAPI Deep Neural Network Library (oneDNN) to use the following CPU instructions in performance-critical operations:  SSE4.1 SSE4.2 AVX AVX2 FMA\n",
      "To enable them in other operations, rebuild TensorFlow with the appropriate compiler flags.\n",
      "2023-04-05 09:49:46.172570: I tensorflow/core/common_runtime/process_util.cc:146] Creating new thread pool with default inter op setting: 2. Tune using inter_op_parallelism_threads for best performance.\n"
     ]
    }
   ],
   "source": [
    "model = keras.Sequential([\n",
    "    layers.BatchNormalization(input_shape=input_shape),\n",
    "    layers.Dense(256, activation='relu'),\n",
    "    layers.BatchNormalization(),\n",
    "    layers.Dropout(0.3),\n",
    "    layers.Dense(256, activation='relu'),\n",
    "    layers.BatchNormalization(),\n",
    "    layers.Dropout(0.3),\n",
    "    layers.Dense(1, activation='sigmoid'),\n",
    "])"
   ]
  },
  {
   "cell_type": "code",
   "execution_count": 15,
   "id": "d9e13d54",
   "metadata": {},
   "outputs": [],
   "source": [
    "model.compile(\n",
    "    optimizer='adam',\n",
    "    loss='binary_crossentropy',\n",
    "    metrics=['binary_accuracy'],\n",
    ")"
   ]
  },
  {
   "cell_type": "code",
   "execution_count": 16,
   "id": "014347c6",
   "metadata": {},
   "outputs": [
    {
     "name": "stdout",
     "output_type": "stream",
     "text": [
      "Epoch 1/200\n",
      "12/12 [==============================] - 2s 75ms/step - loss: 0.5966 - binary_accuracy: 0.7139 - val_loss: 0.5627 - val_binary_accuracy: 0.6865\n",
      "Epoch 2/200\n",
      "12/12 [==============================] - 0s 41ms/step - loss: 0.5140 - binary_accuracy: 0.7590 - val_loss: 0.5506 - val_binary_accuracy: 0.7018\n",
      "Epoch 3/200\n",
      "12/12 [==============================] - 0s 42ms/step - loss: 0.4710 - binary_accuracy: 0.7670 - val_loss: 0.5368 - val_binary_accuracy: 0.7207\n",
      "Epoch 4/200\n",
      "12/12 [==============================] - 0s 39ms/step - loss: 0.4620 - binary_accuracy: 0.7761 - val_loss: 0.5282 - val_binary_accuracy: 0.7583\n",
      "Epoch 5/200\n",
      "12/12 [==============================] - 0s 34ms/step - loss: 0.4442 - binary_accuracy: 0.7770 - val_loss: 0.5220 - val_binary_accuracy: 0.7544\n",
      "Epoch 6/200\n",
      "12/12 [==============================] - 0s 37ms/step - loss: 0.4402 - binary_accuracy: 0.7882 - val_loss: 0.5115 - val_binary_accuracy: 0.7815\n",
      "Epoch 7/200\n",
      "12/12 [==============================] - 0s 36ms/step - loss: 0.4296 - binary_accuracy: 0.7897 - val_loss: 0.5026 - val_binary_accuracy: 0.7740\n",
      "Epoch 8/200\n",
      "12/12 [==============================] - 0s 40ms/step - loss: 0.4325 - binary_accuracy: 0.7916 - val_loss: 0.4987 - val_binary_accuracy: 0.7760\n",
      "Epoch 9/200\n",
      "12/12 [==============================] - 0s 36ms/step - loss: 0.4244 - binary_accuracy: 0.7918 - val_loss: 0.4934 - val_binary_accuracy: 0.7776\n",
      "Epoch 10/200\n",
      "12/12 [==============================] - 0s 32ms/step - loss: 0.4220 - binary_accuracy: 0.7970 - val_loss: 0.4830 - val_binary_accuracy: 0.7862\n",
      "Epoch 11/200\n",
      "12/12 [==============================] - 0s 40ms/step - loss: 0.4255 - binary_accuracy: 0.7981 - val_loss: 0.4768 - val_binary_accuracy: 0.7929\n",
      "Epoch 12/200\n",
      "12/12 [==============================] - 1s 46ms/step - loss: 0.4190 - binary_accuracy: 0.7928 - val_loss: 0.4735 - val_binary_accuracy: 0.7834\n",
      "Epoch 13/200\n",
      "12/12 [==============================] - 0s 41ms/step - loss: 0.4102 - binary_accuracy: 0.7993 - val_loss: 0.4647 - val_binary_accuracy: 0.7933\n",
      "Epoch 14/200\n",
      "12/12 [==============================] - 1s 47ms/step - loss: 0.4101 - binary_accuracy: 0.7968 - val_loss: 0.4585 - val_binary_accuracy: 0.7862\n",
      "Epoch 15/200\n",
      "12/12 [==============================] - 1s 49ms/step - loss: 0.4026 - binary_accuracy: 0.8066 - val_loss: 0.4539 - val_binary_accuracy: 0.7905\n",
      "Epoch 16/200\n",
      "12/12 [==============================] - 0s 39ms/step - loss: 0.4031 - binary_accuracy: 0.8039 - val_loss: 0.4478 - val_binary_accuracy: 0.7921\n",
      "Epoch 17/200\n",
      "12/12 [==============================] - 0s 34ms/step - loss: 0.4070 - binary_accuracy: 0.8057 - val_loss: 0.4376 - val_binary_accuracy: 0.7980\n",
      "Epoch 18/200\n",
      "12/12 [==============================] - 1s 45ms/step - loss: 0.4004 - binary_accuracy: 0.8076 - val_loss: 0.4344 - val_binary_accuracy: 0.7956\n",
      "Epoch 19/200\n",
      "12/12 [==============================] - 0s 39ms/step - loss: 0.3947 - binary_accuracy: 0.8071 - val_loss: 0.4317 - val_binary_accuracy: 0.7956\n",
      "Epoch 20/200\n",
      "12/12 [==============================] - 1s 43ms/step - loss: 0.3986 - binary_accuracy: 0.8029 - val_loss: 0.4272 - val_binary_accuracy: 0.7940\n",
      "Epoch 21/200\n",
      "12/12 [==============================] - 0s 33ms/step - loss: 0.3936 - binary_accuracy: 0.8061 - val_loss: 0.4228 - val_binary_accuracy: 0.7976\n",
      "Epoch 22/200\n",
      "12/12 [==============================] - 0s 38ms/step - loss: 0.3951 - binary_accuracy: 0.8079 - val_loss: 0.4169 - val_binary_accuracy: 0.8003\n",
      "Epoch 23/200\n",
      "12/12 [==============================] - 0s 36ms/step - loss: 0.3939 - binary_accuracy: 0.8087 - val_loss: 0.4137 - val_binary_accuracy: 0.7972\n",
      "Epoch 24/200\n",
      "12/12 [==============================] - 0s 34ms/step - loss: 0.3903 - binary_accuracy: 0.8098 - val_loss: 0.4120 - val_binary_accuracy: 0.8031\n",
      "Epoch 25/200\n",
      "12/12 [==============================] - 0s 35ms/step - loss: 0.3926 - binary_accuracy: 0.8064 - val_loss: 0.4089 - val_binary_accuracy: 0.7999\n",
      "Epoch 26/200\n",
      "12/12 [==============================] - 0s 30ms/step - loss: 0.3909 - binary_accuracy: 0.8109 - val_loss: 0.4092 - val_binary_accuracy: 0.7987\n",
      "Epoch 27/200\n",
      "12/12 [==============================] - 0s 34ms/step - loss: 0.3909 - binary_accuracy: 0.8059 - val_loss: 0.4095 - val_binary_accuracy: 0.8003\n",
      "Epoch 28/200\n",
      "12/12 [==============================] - 0s 32ms/step - loss: 0.3813 - binary_accuracy: 0.8153 - val_loss: 0.4049 - val_binary_accuracy: 0.7980\n",
      "Epoch 29/200\n",
      "12/12 [==============================] - 0s 37ms/step - loss: 0.3812 - binary_accuracy: 0.8158 - val_loss: 0.4032 - val_binary_accuracy: 0.8019\n",
      "Epoch 30/200\n",
      "12/12 [==============================] - 0s 33ms/step - loss: 0.3817 - binary_accuracy: 0.8123 - val_loss: 0.4015 - val_binary_accuracy: 0.8050\n",
      "Epoch 31/200\n",
      "12/12 [==============================] - 0s 33ms/step - loss: 0.3836 - binary_accuracy: 0.8150 - val_loss: 0.4013 - val_binary_accuracy: 0.8113\n",
      "Epoch 32/200\n",
      "12/12 [==============================] - 0s 35ms/step - loss: 0.3835 - binary_accuracy: 0.8155 - val_loss: 0.3987 - val_binary_accuracy: 0.8023\n",
      "Epoch 33/200\n",
      "12/12 [==============================] - 1s 49ms/step - loss: 0.3849 - binary_accuracy: 0.8116 - val_loss: 0.4007 - val_binary_accuracy: 0.8062\n",
      "Epoch 34/200\n",
      "12/12 [==============================] - 1s 66ms/step - loss: 0.3750 - binary_accuracy: 0.8175 - val_loss: 0.3963 - val_binary_accuracy: 0.8019\n",
      "Epoch 35/200\n",
      "12/12 [==============================] - 1s 61ms/step - loss: 0.3827 - binary_accuracy: 0.8103 - val_loss: 0.4000 - val_binary_accuracy: 0.8121\n",
      "Epoch 36/200\n",
      "12/12 [==============================] - 1s 71ms/step - loss: 0.3739 - binary_accuracy: 0.8182 - val_loss: 0.3974 - val_binary_accuracy: 0.8062\n",
      "Epoch 37/200\n",
      "12/12 [==============================] - 1s 73ms/step - loss: 0.3785 - binary_accuracy: 0.8143 - val_loss: 0.3993 - val_binary_accuracy: 0.8101\n",
      "Epoch 38/200\n",
      "12/12 [==============================] - 1s 65ms/step - loss: 0.3766 - binary_accuracy: 0.8165 - val_loss: 0.3964 - val_binary_accuracy: 0.8038\n",
      "Epoch 39/200\n",
      "12/12 [==============================] - 1s 86ms/step - loss: 0.3745 - binary_accuracy: 0.8187 - val_loss: 0.3964 - val_binary_accuracy: 0.8086\n"
     ]
    }
   ],
   "source": [
    "early_stopping = keras.callbacks.EarlyStopping(\n",
    "    patience=5,\n",
    "    min_delta=0.001,\n",
    "    restore_best_weights=True,\n",
    ")\n",
    "history = model.fit(\n",
    "    X_train, y_train,\n",
    "    validation_data=(X_test, y_test),\n",
    "    batch_size=512,\n",
    "    epochs=200,\n",
    "    callbacks=[early_stopping],\n",
    ")"
   ]
  },
  {
   "cell_type": "code",
   "execution_count": 17,
   "id": "3251d63c",
   "metadata": {},
   "outputs": [
    {
     "data": {
      "text/plain": [
       "<AxesSubplot: title={'center': 'Accuracy'}>"
      ]
     },
     "execution_count": 17,
     "metadata": {},
     "output_type": "execute_result"
    },
    {
     "data": {
      "image/png": "[encoded data removed]",
      "text/plain": [
       "<Figure size 640x480 with 1 Axes>"
      ]
     },
     "metadata": {},
     "output_type": "display_data"
    },
    {
     "data": {
      "image/png": "[encoded data removed]",
      "text/plain": [
       "<Figure size 640x480 with 1 Axes>"
      ]
     },
     "metadata": {},
     "output_type": "display_data"
    }
   ],
   "source": [
    "history_df = pd.DataFrame(history.history)\n",
    "history_df.loc[:, ['loss', 'val_loss']].plot(title=\"Cross-entropy\")\n",
    "history_df.loc[:, ['binary_accuracy', 'val_binary_accuracy']].plot(title=\"Accuracy\")"
   ]
  },
  {
   "cell_type": "code",
   "execution_count": null,
   "id": "e0cf2bd8",
   "metadata": {},
   "outputs": [],
   "source": [
    "ml_scores['Score'].iloc[3] = history_df['val_binary_accuracy'].iloc[-1]"
   ]
  },
  {
   "cell_type": "markdown",
   "id": "f75a3a48",
   "metadata": {},
   "source": [
    "# Segundo Dataset"
   ]
  },
  {
   "cell_type": "code",
   "execution_count": 18,
   "id": "80a5b978",
   "metadata": {},
   "outputs": [],
   "source": [
    "df2 = pd.read_csv('data/space_etl3.csv',skipinitialspace=True)\n",
    "df2['VIP'] = df2['VIP'].astype(int)\n",
    "df2['CryoSleep'] = df2['CryoSleep'].astype(int)"
   ]
  },
  {
   "cell_type": "code",
   "execution_count": 19,
   "id": "c4a654b5",
   "metadata": {},
   "outputs": [],
   "source": [
    "y = df2.Transported\n",
    "X = df2.drop(['Transported','Cabin'],axis=1)\n",
    "X_train, X_test, y_train, y_test = train_test_split(X, y, test_size=0.3, random_state=1)"
   ]
  },
  {
   "cell_type": "markdown",
   "id": "3ebf89f8",
   "metadata": {},
   "source": [
    "## Support Vector Machines"
   ]
  },
  {
   "cell_type": "code",
   "execution_count": 20,
   "id": "c4461758",
   "metadata": {},
   "outputs": [],
   "source": [
    "svc = SVC(gamma='auto',random_state=1,kernel='rbf')\n",
    "svc.fit(X_train,y_train)\n",
    "predicted = svc.predict(X_test)\n",
    "#ml_scores['Score'].iloc[4] = accuracy_score(y_test, predicted)"
   ]
  },
  {
   "cell_type": "code",
   "execution_count": 21,
   "id": "b40a8f9e",
   "metadata": {},
   "outputs": [
    {
     "data": {
      "text/plain": [
       "0.6660098522167488"
      ]
     },
     "execution_count": 21,
     "metadata": {},
     "output_type": "execute_result"
    }
   ],
   "source": [
    "accuracy_score(y_test, predicted)"
   ]
  },
  {
   "cell_type": "markdown",
   "id": "47e7641c",
   "metadata": {},
   "source": [
    "## RandomForestClassifier"
   ]
  },
  {
   "cell_type": "code",
   "execution_count": 22,
   "id": "57a560e9",
   "metadata": {},
   "outputs": [],
   "source": [
    "rfc = RandomForestClassifier(n_estimators = 150,max_depth=10, random_state=1)\n",
    "rfc.fit(X_train, y_train)\n",
    "X_predicted = rfc.predict(X_test)\n",
    "#ml_scores['Score'].iloc[5] = accuracy_score(y_test,X_predicted)"
   ]
  },
  {
   "cell_type": "code",
   "execution_count": 23,
   "id": "416dd8fb",
   "metadata": {},
   "outputs": [
    {
     "data": {
      "text/plain": [
       "0.7990147783251231"
      ]
     },
     "execution_count": 23,
     "metadata": {},
     "output_type": "execute_result"
    }
   ],
   "source": [
    "accuracy_score(y_test,X_predicted)"
   ]
  },
  {
   "cell_type": "markdown",
   "id": "0e1f4622",
   "metadata": {},
   "source": [
    "## XGBClassifier"
   ]
  },
  {
   "cell_type": "code",
   "execution_count": 24,
   "id": "c460e04f",
   "metadata": {},
   "outputs": [
    {
     "name": "stderr",
     "output_type": "stream",
     "text": [
      "/home/enrique.jimenez/miniconda3/envs/curso_ciencia_de_datos/lib/python3.8/site-packages/xgboost/sklearn.py:1395: UserWarning: `use_label_encoder` is deprecated in 1.7.0.\n",
      "  warnings.warn(\"`use_label_encoder` is deprecated in 1.7.0.\")\n"
     ]
    }
   ],
   "source": [
    "xbgc = XGBClassifier(use_label_encoder=False, eval_metric='mlogloss',random_state=1,max_depth=10)\n",
    "xbgc.fit(X_train,y_train)\n",
    "xbgc_predicted = xbgc.predict(X_test)\n",
    "#ml_scores['Score'].iloc[6] = accuracy_score(y_test, xbgc_predicted)"
   ]
  },
  {
   "cell_type": "code",
   "execution_count": 25,
   "id": "1f2d11f1",
   "metadata": {},
   "outputs": [
    {
     "data": {
      "text/plain": [
       "0.7940886699507389"
      ]
     },
     "execution_count": 25,
     "metadata": {},
     "output_type": "execute_result"
    }
   ],
   "source": [
    "accuracy_score(y_test, xbgc_predicted)"
   ]
  },
  {
   "cell_type": "markdown",
   "id": "6a181aed",
   "metadata": {},
   "source": [
    "## Neural Networks"
   ]
  },
  {
   "cell_type": "code",
   "execution_count": 26,
   "id": "d358275b",
   "metadata": {},
   "outputs": [
    {
     "name": "stdout",
     "output_type": "stream",
     "text": [
      "Epoch 1/200\n",
      "10/10 [==============================] - 2s 72ms/step - loss: 0.6442 - binary_accuracy: 0.6878 - val_loss: 0.5760 - val_binary_accuracy: 0.7286\n",
      "Epoch 2/200\n",
      "10/10 [==============================] - 0s 39ms/step - loss: 0.4867 - binary_accuracy: 0.7729 - val_loss: 0.5478 - val_binary_accuracy: 0.7808\n",
      "Epoch 3/200\n",
      "10/10 [==============================] - 0s 34ms/step - loss: 0.4654 - binary_accuracy: 0.7780 - val_loss: 0.5410 - val_binary_accuracy: 0.7685\n",
      "Epoch 4/200\n",
      "10/10 [==============================] - 0s 42ms/step - loss: 0.4464 - binary_accuracy: 0.7824 - val_loss: 0.5371 - val_binary_accuracy: 0.7867\n",
      "Epoch 5/200\n",
      "10/10 [==============================] - 1s 53ms/step - loss: 0.4393 - binary_accuracy: 0.7854 - val_loss: 0.5341 - val_binary_accuracy: 0.7847\n",
      "Epoch 6/200\n",
      "10/10 [==============================] - 0s 42ms/step - loss: 0.4393 - binary_accuracy: 0.7852 - val_loss: 0.5260 - val_binary_accuracy: 0.7852\n",
      "Epoch 7/200\n",
      "10/10 [==============================] - 0s 42ms/step - loss: 0.4285 - binary_accuracy: 0.7924 - val_loss: 0.5193 - val_binary_accuracy: 0.7975\n",
      "Epoch 8/200\n",
      "10/10 [==============================] - 1s 54ms/step - loss: 0.4255 - binary_accuracy: 0.7911 - val_loss: 0.5135 - val_binary_accuracy: 0.7911\n",
      "Epoch 9/200\n",
      "10/10 [==============================] - 0s 50ms/step - loss: 0.4332 - binary_accuracy: 0.7890 - val_loss: 0.5064 - val_binary_accuracy: 0.7985\n",
      "Epoch 10/200\n",
      "10/10 [==============================] - 0s 41ms/step - loss: 0.4194 - binary_accuracy: 0.7932 - val_loss: 0.4999 - val_binary_accuracy: 0.8000\n",
      "Epoch 11/200\n",
      "10/10 [==============================] - 0s 46ms/step - loss: 0.4121 - binary_accuracy: 0.7932 - val_loss: 0.4916 - val_binary_accuracy: 0.7951\n",
      "Epoch 12/200\n",
      "10/10 [==============================] - 0s 47ms/step - loss: 0.4151 - binary_accuracy: 0.7968 - val_loss: 0.4890 - val_binary_accuracy: 0.7897\n",
      "Epoch 13/200\n",
      "10/10 [==============================] - 0s 38ms/step - loss: 0.4067 - binary_accuracy: 0.8038 - val_loss: 0.4769 - val_binary_accuracy: 0.7975\n",
      "Epoch 14/200\n",
      "10/10 [==============================] - 0s 44ms/step - loss: 0.4113 - binary_accuracy: 0.8044 - val_loss: 0.4681 - val_binary_accuracy: 0.7975\n",
      "Epoch 15/200\n",
      "10/10 [==============================] - 0s 43ms/step - loss: 0.4037 - binary_accuracy: 0.8065 - val_loss: 0.4651 - val_binary_accuracy: 0.7931\n",
      "Epoch 16/200\n",
      "10/10 [==============================] - 0s 48ms/step - loss: 0.3988 - binary_accuracy: 0.8014 - val_loss: 0.4599 - val_binary_accuracy: 0.7966\n",
      "Epoch 17/200\n",
      "10/10 [==============================] - 1s 52ms/step - loss: 0.3982 - binary_accuracy: 0.7978 - val_loss: 0.4562 - val_binary_accuracy: 0.7911\n",
      "Epoch 18/200\n",
      "10/10 [==============================] - 0s 38ms/step - loss: 0.3877 - binary_accuracy: 0.8097 - val_loss: 0.4483 - val_binary_accuracy: 0.7966\n",
      "Epoch 19/200\n",
      "10/10 [==============================] - 0s 40ms/step - loss: 0.3964 - binary_accuracy: 0.8016 - val_loss: 0.4448 - val_binary_accuracy: 0.7911\n",
      "Epoch 20/200\n",
      "10/10 [==============================] - 0s 41ms/step - loss: 0.3914 - binary_accuracy: 0.8112 - val_loss: 0.4387 - val_binary_accuracy: 0.7941\n",
      "Epoch 21/200\n",
      "10/10 [==============================] - 0s 37ms/step - loss: 0.3939 - binary_accuracy: 0.8061 - val_loss: 0.4332 - val_binary_accuracy: 0.8025\n",
      "Epoch 22/200\n",
      "10/10 [==============================] - 0s 38ms/step - loss: 0.3875 - binary_accuracy: 0.8120 - val_loss: 0.4302 - val_binary_accuracy: 0.7936\n",
      "Epoch 23/200\n",
      "10/10 [==============================] - 0s 35ms/step - loss: 0.3955 - binary_accuracy: 0.7981 - val_loss: 0.4282 - val_binary_accuracy: 0.7966\n",
      "Epoch 24/200\n",
      "10/10 [==============================] - 0s 34ms/step - loss: 0.3845 - binary_accuracy: 0.8090 - val_loss: 0.4196 - val_binary_accuracy: 0.8005\n",
      "Epoch 25/200\n",
      "10/10 [==============================] - 0s 38ms/step - loss: 0.3788 - binary_accuracy: 0.8143 - val_loss: 0.4144 - val_binary_accuracy: 0.8030\n",
      "Epoch 26/200\n",
      "10/10 [==============================] - 0s 43ms/step - loss: 0.3836 - binary_accuracy: 0.8131 - val_loss: 0.4157 - val_binary_accuracy: 0.8084\n",
      "Epoch 27/200\n",
      "10/10 [==============================] - 0s 48ms/step - loss: 0.3808 - binary_accuracy: 0.8190 - val_loss: 0.4120 - val_binary_accuracy: 0.7995\n",
      "Epoch 28/200\n",
      "10/10 [==============================] - 1s 66ms/step - loss: 0.3744 - binary_accuracy: 0.8160 - val_loss: 0.4090 - val_binary_accuracy: 0.8010\n",
      "Epoch 29/200\n",
      "10/10 [==============================] - 0s 40ms/step - loss: 0.3824 - binary_accuracy: 0.8097 - val_loss: 0.4058 - val_binary_accuracy: 0.7966\n",
      "Epoch 30/200\n",
      "10/10 [==============================] - 0s 37ms/step - loss: 0.3738 - binary_accuracy: 0.8177 - val_loss: 0.4039 - val_binary_accuracy: 0.7975\n",
      "Epoch 31/200\n",
      "10/10 [==============================] - 0s 37ms/step - loss: 0.3722 - binary_accuracy: 0.8198 - val_loss: 0.4027 - val_binary_accuracy: 0.8025\n",
      "Epoch 32/200\n",
      "10/10 [==============================] - 0s 45ms/step - loss: 0.3775 - binary_accuracy: 0.8200 - val_loss: 0.4024 - val_binary_accuracy: 0.8030\n",
      "Epoch 33/200\n",
      "10/10 [==============================] - 0s 44ms/step - loss: 0.3749 - binary_accuracy: 0.8175 - val_loss: 0.4007 - val_binary_accuracy: 0.7956\n",
      "Epoch 34/200\n",
      "10/10 [==============================] - 0s 40ms/step - loss: 0.3786 - binary_accuracy: 0.8141 - val_loss: 0.4003 - val_binary_accuracy: 0.8034\n",
      "Epoch 35/200\n",
      "10/10 [==============================] - 0s 44ms/step - loss: 0.3729 - binary_accuracy: 0.8152 - val_loss: 0.3941 - val_binary_accuracy: 0.8069\n",
      "Epoch 36/200\n",
      "10/10 [==============================] - 0s 40ms/step - loss: 0.3674 - binary_accuracy: 0.8238 - val_loss: 0.3940 - val_binary_accuracy: 0.8054\n",
      "Epoch 37/200\n",
      "10/10 [==============================] - 0s 41ms/step - loss: 0.3673 - binary_accuracy: 0.8234 - val_loss: 0.3934 - val_binary_accuracy: 0.8089\n",
      "Epoch 38/200\n",
      "10/10 [==============================] - 0s 39ms/step - loss: 0.3676 - binary_accuracy: 0.8245 - val_loss: 0.3927 - val_binary_accuracy: 0.8039\n",
      "Epoch 39/200\n",
      "10/10 [==============================] - 1s 50ms/step - loss: 0.3663 - binary_accuracy: 0.8183 - val_loss: 0.3910 - val_binary_accuracy: 0.8079\n",
      "Epoch 40/200\n",
      "10/10 [==============================] - 0s 37ms/step - loss: 0.3675 - binary_accuracy: 0.8223 - val_loss: 0.3908 - val_binary_accuracy: 0.8099\n",
      "Epoch 41/200\n",
      "10/10 [==============================] - 1s 56ms/step - loss: 0.3696 - binary_accuracy: 0.8226 - val_loss: 0.3905 - val_binary_accuracy: 0.8084\n",
      "Epoch 42/200\n",
      "10/10 [==============================] - 0s 39ms/step - loss: 0.3692 - binary_accuracy: 0.8221 - val_loss: 0.3950 - val_binary_accuracy: 0.8044\n",
      "Epoch 43/200\n",
      "10/10 [==============================] - 0s 37ms/step - loss: 0.3630 - binary_accuracy: 0.8251 - val_loss: 0.3959 - val_binary_accuracy: 0.8015\n",
      "Epoch 44/200\n",
      "10/10 [==============================] - 0s 46ms/step - loss: 0.3653 - binary_accuracy: 0.8211 - val_loss: 0.3930 - val_binary_accuracy: 0.8103\n"
     ]
    }
   ],
   "source": [
    "input_shape= [X_train.shape[1]]\n",
    "model = keras.Sequential([\n",
    "    layers.BatchNormalization(input_shape=input_shape),\n",
    "    layers.Dense(256, activation='relu'),\n",
    "    layers.BatchNormalization(),\n",
    "    layers.Dropout(0.3),\n",
    "    layers.Dense(256, activation='relu'),\n",
    "    layers.BatchNormalization(),\n",
    "    layers.Dropout(0.3),\n",
    "    layers.Dense(1, activation='sigmoid'),\n",
    "])\n",
    "model.compile(\n",
    "    optimizer='adam',\n",
    "    loss='binary_crossentropy',\n",
    "    metrics=['binary_accuracy'],\n",
    ")\n",
    "early_stopping = keras.callbacks.EarlyStopping(\n",
    "    patience=5,\n",
    "    min_delta=0.001,\n",
    "    restore_best_weights=True,\n",
    ")\n",
    "history = model.fit(\n",
    "    X_train, y_train,\n",
    "    validation_data=(X_test, y_test),\n",
    "    batch_size=512,\n",
    "    epochs=200,\n",
    "    callbacks=[early_stopping],\n",
    ")"
   ]
  },
  {
   "cell_type": "code",
   "execution_count": null,
   "id": "87d25ef5",
   "metadata": {},
   "outputs": [],
   "source": [
    "history_df = pd.DataFrame(history.history)\n",
    "history_df.loc[:, ['loss', 'val_loss']].plot(title=\"Cross-entropy\")\n",
    "history_df.loc[:, ['binary_accuracy', 'val_binary_accuracy']].plot(title=\"Accuracy\")"
   ]
  },
  {
   "cell_type": "code",
   "execution_count": null,
   "id": "ae4ebe86",
   "metadata": {},
   "outputs": [],
   "source": [
    "ml_scores['Score'].iloc[7] = history_df['val_binary_accuracy'].iloc[-1]"
   ]
  },
  {
   "cell_type": "markdown",
   "id": "27533528",
   "metadata": {},
   "source": [
    "# Tercer Dataset"
   ]
  },
  {
   "cell_type": "code",
   "execution_count": 27,
   "id": "621fc512",
   "metadata": {},
   "outputs": [],
   "source": [
    "df3 = pd.read_csv('data/space_etl4.csv',skipinitialspace=True)\n",
    "df3['VIP'] = df3['VIP'].astype(int)\n",
    "df3['CryoSleep'] = df3['CryoSleep'].astype(int)"
   ]
  },
  {
   "cell_type": "code",
   "execution_count": 28,
   "id": "0b90e9e9",
   "metadata": {},
   "outputs": [],
   "source": [
    "y = df3.Transported\n",
    "X = df3.drop(['Transported','Cabin'],axis=1)\n",
    "X_train, X_test, y_train, y_test = train_test_split(X, y, test_size=0.3, random_state=1)"
   ]
  },
  {
   "cell_type": "markdown",
   "id": "febc48c8",
   "metadata": {},
   "source": [
    "## Random Forest Classifier"
   ]
  },
  {
   "cell_type": "code",
   "execution_count": 30,
   "id": "220d797d",
   "metadata": {},
   "outputs": [
    {
     "data": {
      "text/plain": [
       "0.8073754413495489"
      ]
     },
     "execution_count": 30,
     "metadata": {},
     "output_type": "execute_result"
    }
   ],
   "source": [
    "rfc = RandomForestClassifier(n_estimators = 150,max_depth=10, random_state=1)\n",
    "rfc.fit(X_train, y_train)\n",
    "X_predicted = rfc.predict(X_test)\n",
    "#ml_scores['Score'].iloc[8] = accuracy_score(y_test,X_predicted)\n",
    "accuracy_score(y_test,X_predicted)"
   ]
  },
  {
   "cell_type": "markdown",
   "id": "b98f07f4",
   "metadata": {},
   "source": [
    "## Support Vector Machines"
   ]
  },
  {
   "cell_type": "code",
   "execution_count": 31,
   "id": "84497d8f",
   "metadata": {},
   "outputs": [
    {
     "data": {
      "text/plain": [
       "0.685366810513927"
      ]
     },
     "execution_count": 31,
     "metadata": {},
     "output_type": "execute_result"
    }
   ],
   "source": [
    "svc = SVC(gamma='auto',random_state=1,kernel='rbf')\n",
    "svc.fit(X_train,y_train)\n",
    "predicted = svc.predict(X_test)\n",
    "#ml_scores['Score'].iloc[9] = accuracy_score(y_test, predicted)\n",
    "accuracy_score(y_test, predicted)"
   ]
  },
  {
   "cell_type": "markdown",
   "id": "a97006a2",
   "metadata": {},
   "source": [
    "## XGBClassifier"
   ]
  },
  {
   "cell_type": "code",
   "execution_count": 32,
   "id": "90160c6d",
   "metadata": {},
   "outputs": [
    {
     "name": "stderr",
     "output_type": "stream",
     "text": [
      "/home/enrique.jimenez/miniconda3/envs/curso_ciencia_de_datos/lib/python3.8/site-packages/xgboost/sklearn.py:1395: UserWarning: `use_label_encoder` is deprecated in 1.7.0.\n",
      "  warnings.warn(\"`use_label_encoder` is deprecated in 1.7.0.\")\n"
     ]
    },
    {
     "data": {
      "text/plain": [
       "0.7959984307571597"
      ]
     },
     "execution_count": 32,
     "metadata": {},
     "output_type": "execute_result"
    }
   ],
   "source": [
    "xbgc = XGBClassifier(use_label_encoder=False, eval_metric='mlogloss',random_state=1,max_depth=10)\n",
    "xbgc.fit(X_train,y_train)\n",
    "xbgc_predicted = xbgc.predict(X_test)\n",
    "#ml_scores['Score'].iloc[10] = accuracy_score(y_test, xbgc_predicted)\n",
    "accuracy_score(y_test, xbgc_predicted)"
   ]
  },
  {
   "cell_type": "markdown",
   "id": "1e204f98",
   "metadata": {},
   "source": [
    "## Neural Networks"
   ]
  },
  {
   "cell_type": "code",
   "execution_count": 33,
   "id": "785e7a58",
   "metadata": {},
   "outputs": [
    {
     "name": "stdout",
     "output_type": "stream",
     "text": [
      "Epoch 1/200\n",
      "12/12 [==============================] - 2s 72ms/step - loss: 0.6358 - binary_accuracy: 0.7001 - val_loss: 0.5627 - val_binary_accuracy: 0.6971\n",
      "Epoch 2/200\n",
      "12/12 [==============================] - 1s 47ms/step - loss: 0.5006 - binary_accuracy: 0.7563 - val_loss: 0.5380 - val_binary_accuracy: 0.7356\n",
      "Epoch 3/200\n",
      "12/12 [==============================] - 1s 56ms/step - loss: 0.4608 - binary_accuracy: 0.7739 - val_loss: 0.5380 - val_binary_accuracy: 0.7548\n",
      "Epoch 4/200\n",
      "12/12 [==============================] - 0s 36ms/step - loss: 0.4559 - binary_accuracy: 0.7754 - val_loss: 0.5320 - val_binary_accuracy: 0.7489\n",
      "Epoch 5/200\n",
      "12/12 [==============================] - 0s 39ms/step - loss: 0.4484 - binary_accuracy: 0.7812 - val_loss: 0.5261 - val_binary_accuracy: 0.7783\n",
      "Epoch 6/200\n",
      "12/12 [==============================] - 1s 46ms/step - loss: 0.4496 - binary_accuracy: 0.7823 - val_loss: 0.5218 - val_binary_accuracy: 0.7564\n",
      "Epoch 7/200\n",
      "12/12 [==============================] - 1s 44ms/step - loss: 0.4396 - binary_accuracy: 0.7793 - val_loss: 0.5155 - val_binary_accuracy: 0.7791\n",
      "Epoch 8/200\n",
      "12/12 [==============================] - 1s 53ms/step - loss: 0.4240 - binary_accuracy: 0.7924 - val_loss: 0.5077 - val_binary_accuracy: 0.7838\n",
      "Epoch 9/200\n",
      "12/12 [==============================] - 1s 71ms/step - loss: 0.4216 - binary_accuracy: 0.7963 - val_loss: 0.4974 - val_binary_accuracy: 0.7831\n",
      "Epoch 10/200\n",
      "12/12 [==============================] - 1s 60ms/step - loss: 0.4213 - binary_accuracy: 0.7924 - val_loss: 0.4903 - val_binary_accuracy: 0.7921\n",
      "Epoch 11/200\n",
      "12/12 [==============================] - 1s 75ms/step - loss: 0.4131 - binary_accuracy: 0.8010 - val_loss: 0.4772 - val_binary_accuracy: 0.7862\n",
      "Epoch 12/200\n",
      "12/12 [==============================] - 0s 42ms/step - loss: 0.4140 - binary_accuracy: 0.8032 - val_loss: 0.4701 - val_binary_accuracy: 0.7960\n",
      "Epoch 13/200\n",
      "12/12 [==============================] - 0s 36ms/step - loss: 0.4169 - binary_accuracy: 0.7916 - val_loss: 0.4653 - val_binary_accuracy: 0.7948\n",
      "Epoch 14/200\n",
      "12/12 [==============================] - 0s 31ms/step - loss: 0.4123 - binary_accuracy: 0.7956 - val_loss: 0.4537 - val_binary_accuracy: 0.7999\n",
      "Epoch 15/200\n",
      "12/12 [==============================] - 0s 39ms/step - loss: 0.4073 - binary_accuracy: 0.7978 - val_loss: 0.4515 - val_binary_accuracy: 0.7968\n",
      "Epoch 16/200\n",
      "12/12 [==============================] - 0s 29ms/step - loss: 0.3989 - binary_accuracy: 0.8045 - val_loss: 0.4436 - val_binary_accuracy: 0.7960\n",
      "Epoch 17/200\n",
      "12/12 [==============================] - 1s 50ms/step - loss: 0.4015 - binary_accuracy: 0.8015 - val_loss: 0.4353 - val_binary_accuracy: 0.8035\n",
      "Epoch 18/200\n",
      "12/12 [==============================] - 1s 42ms/step - loss: 0.4025 - binary_accuracy: 0.8022 - val_loss: 0.4319 - val_binary_accuracy: 0.8011\n",
      "Epoch 19/200\n",
      "12/12 [==============================] - 1s 52ms/step - loss: 0.3994 - binary_accuracy: 0.8015 - val_loss: 0.4281 - val_binary_accuracy: 0.8019\n",
      "Epoch 20/200\n",
      "12/12 [==============================] - 0s 39ms/step - loss: 0.3981 - binary_accuracy: 0.8039 - val_loss: 0.4237 - val_binary_accuracy: 0.8011\n",
      "Epoch 21/200\n",
      "12/12 [==============================] - 1s 43ms/step - loss: 0.3977 - binary_accuracy: 0.8057 - val_loss: 0.4149 - val_binary_accuracy: 0.8011\n",
      "Epoch 22/200\n",
      "12/12 [==============================] - 1s 41ms/step - loss: 0.3944 - binary_accuracy: 0.8050 - val_loss: 0.4133 - val_binary_accuracy: 0.8046\n",
      "Epoch 23/200\n",
      "12/12 [==============================] - 0s 31ms/step - loss: 0.3871 - binary_accuracy: 0.8128 - val_loss: 0.4104 - val_binary_accuracy: 0.8086\n",
      "Epoch 24/200\n",
      "12/12 [==============================] - 0s 32ms/step - loss: 0.3894 - binary_accuracy: 0.8123 - val_loss: 0.4085 - val_binary_accuracy: 0.8050\n",
      "Epoch 25/200\n",
      "12/12 [==============================] - 0s 29ms/step - loss: 0.3887 - binary_accuracy: 0.8071 - val_loss: 0.4048 - val_binary_accuracy: 0.8066\n",
      "Epoch 26/200\n",
      "12/12 [==============================] - 0s 33ms/step - loss: 0.3917 - binary_accuracy: 0.8069 - val_loss: 0.4036 - val_binary_accuracy: 0.8054\n",
      "Epoch 27/200\n",
      "12/12 [==============================] - 0s 32ms/step - loss: 0.3899 - binary_accuracy: 0.8081 - val_loss: 0.4026 - val_binary_accuracy: 0.8011\n",
      "Epoch 28/200\n",
      "12/12 [==============================] - 0s 42ms/step - loss: 0.3863 - binary_accuracy: 0.8067 - val_loss: 0.3989 - val_binary_accuracy: 0.8089\n",
      "Epoch 29/200\n",
      "12/12 [==============================] - 0s 40ms/step - loss: 0.3845 - binary_accuracy: 0.8121 - val_loss: 0.3987 - val_binary_accuracy: 0.8054\n",
      "Epoch 30/200\n",
      "12/12 [==============================] - 0s 37ms/step - loss: 0.3785 - binary_accuracy: 0.8168 - val_loss: 0.3973 - val_binary_accuracy: 0.8062\n",
      "Epoch 31/200\n",
      "12/12 [==============================] - 0s 36ms/step - loss: 0.3788 - binary_accuracy: 0.8172 - val_loss: 0.3954 - val_binary_accuracy: 0.8070\n",
      "Epoch 32/200\n",
      "12/12 [==============================] - 0s 35ms/step - loss: 0.3841 - binary_accuracy: 0.8087 - val_loss: 0.3942 - val_binary_accuracy: 0.8082\n",
      "Epoch 33/200\n",
      "12/12 [==============================] - 1s 44ms/step - loss: 0.3862 - binary_accuracy: 0.8081 - val_loss: 0.3948 - val_binary_accuracy: 0.8035\n",
      "Epoch 34/200\n",
      "12/12 [==============================] - 1s 65ms/step - loss: 0.3826 - binary_accuracy: 0.8071 - val_loss: 0.3955 - val_binary_accuracy: 0.8031\n",
      "Epoch 35/200\n",
      "12/12 [==============================] - 1s 63ms/step - loss: 0.3785 - binary_accuracy: 0.8133 - val_loss: 0.3948 - val_binary_accuracy: 0.8101\n",
      "Epoch 36/200\n",
      "12/12 [==============================] - 1s 57ms/step - loss: 0.3764 - binary_accuracy: 0.8146 - val_loss: 0.3945 - val_binary_accuracy: 0.8038\n",
      "Epoch 37/200\n",
      "12/12 [==============================] - 1s 44ms/step - loss: 0.3771 - binary_accuracy: 0.8167 - val_loss: 0.3936 - val_binary_accuracy: 0.8109\n"
     ]
    }
   ],
   "source": [
    "input_shape= [X_train.shape[1]]\n",
    "model = keras.Sequential([\n",
    "    layers.BatchNormalization(input_shape=input_shape),\n",
    "    layers.Dense(256, activation='relu'),\n",
    "    layers.BatchNormalization(),\n",
    "    layers.Dropout(0.3),\n",
    "    layers.Dense(256, activation='relu'),\n",
    "    layers.BatchNormalization(),\n",
    "    layers.Dropout(0.3),\n",
    "    layers.Dense(1, activation='sigmoid'),\n",
    "])\n",
    "model.compile(\n",
    "    optimizer='adam',\n",
    "    loss='binary_crossentropy',\n",
    "    metrics=['binary_accuracy'],\n",
    ")\n",
    "early_stopping = keras.callbacks.EarlyStopping(\n",
    "    patience=5,\n",
    "    min_delta=0.001,\n",
    "    restore_best_weights=True,\n",
    ")\n",
    "history = model.fit(\n",
    "    X_train, y_train,\n",
    "    validation_data=(X_test, y_test),\n",
    "    batch_size=512,\n",
    "    epochs=200,\n",
    "    callbacks=[early_stopping],\n",
    ")"
   ]
  },
  {
   "cell_type": "code",
   "execution_count": null,
   "id": "48fe6943",
   "metadata": {},
   "outputs": [],
   "source": [
    "history_df = pd.DataFrame(history.history)\n",
    "history_df.loc[:, ['loss', 'val_loss']].plot(title=\"Cross-entropy\")\n",
    "history_df.loc[:, ['binary_accuracy', 'val_binary_accuracy']].plot(title=\"Accuracy\")"
   ]
  },
  {
   "cell_type": "code",
   "execution_count": null,
   "id": "4cd49ecf",
   "metadata": {},
   "outputs": [],
   "source": [
    "ml_scores['Score'].iloc[11] = history_df['val_binary_accuracy'].iloc[-1]"
   ]
  },
  {
   "cell_type": "code",
   "execution_count": null,
   "id": "b268aad4",
   "metadata": {},
   "outputs": [],
   "source": [
    "ml_scores.head()"
   ]
  },
  {
   "cell_type": "markdown",
   "id": "4c25ec33",
   "metadata": {},
   "source": [
    "# Reporte"
   ]
  },
  {
   "cell_type": "markdown",
   "id": "4869da1b",
   "metadata": {},
   "source": [
    "| Dataset | Método de ML | Accuracy |\n",
    "| --- | --- | --- |\n",
    "| Dataset1 | SVC | .683 |\n",
    "| Dataset1 | RandomForest | .798 |\n",
    "| Dataset1 | XGBClassifier | .800 |\n",
    "| Dataset1 | Neural Networks | .808 |\n",
    "| Dataset2 | SVC | .666 |\n",
    "| Dataset2 | RandomForest | .799 |\n",
    "| Dataset2 | XGBClassifier | .794 |\n",
    "| Dataset2 | Neural Networks | .810 |\n",
    "| Dataset3 | SVC | .685 |\n",
    "| Dataset3 | RandomForest | .807 |\n",
    "| Dataset3 | XGBClassifier | .795 |\n",
    "| Dataset3 | Neural Networks | .810 |"
   ]
  },
  {
   "cell_type": "markdown",
   "id": "454242c0",
   "metadata": {},
   "source": [
    "## Descripción"
   ]
  },
  {
   "cell_type": "markdown",
   "id": "5cc89f7e",
   "metadata": {},
   "source": [
    "Se han usado tres datasets creados en la fase de la ETL. Estos datasets tienen en común las siguientes características:\n",
    "\n",
    "  - Se ha eliminado las columnas de *PassengerID* y *Name*\n",
    "  - Se ha eliminado los NaN de la columna *Cabin*\n",
    "  - Se ha dividido la columan *Cabin* en las columnas *Deck*, *Num* y *Side*\n",
    "  - Las columnas *VIP* y *CryoSleep* se han convertido de object a bool\n",
    "  - Se han las columnas de *Deck*, *Num*, *Side*, *Destination* y *HomePlanet* a discretas \n",
    "\n",
    "El primer dataset tiene las siguientes características:\n",
    "  - Se ha usado el método KNNImputer para imputar los NaN de las columnas de los amenities\n",
    "  - Se ha imputado los NaN de la columna de *Age* siguiendo la media de esta\n",
    "  - Se ha imputado los NaN de *VIP* y *CryoSleep* siguiendo usando el atributo más frecuente\n",
    "\n",
    "El segundo dataset tiene las siguientes características:\n",
    "  - Se ha eliminado los NaN presentes en todas las columnas\n",
    "\n",
    "El tercer dataset tiene las siguientes características:\n",
    "  - Se ha imputado los NaN de las columnas de los amenities siguiendo la mediana de estas\n",
    "  - Se ha imputado los NaN de la columan de *Age* siguiendo la media de esta\n",
    "  - Se ha imputado los NaN de *VIP* y *CryoSleep* siguiendo usando el atributo más frecuente\n",
    "  \n",
    "Se han usado los métodos de SVC, RandomForest, XGBClassifier y Neural Networks de ML. Para el primer dataset se ha usado también el método de NaiveBayes. No se ha usado los métodos de regresiones debido a la poca correlación de los datos."
   ]
  },
  {
   "cell_type": "markdown",
   "id": "f72af023",
   "metadata": {},
   "source": [
    "## Guardado del modelo y pruebas"
   ]
  },
  {
   "cell_type": "code",
   "execution_count": 34,
   "id": "21bf5026",
   "metadata": {},
   "outputs": [],
   "source": [
    "import pickle"
   ]
  },
  {
   "cell_type": "code",
   "execution_count": 42,
   "id": "a4f38a6d",
   "metadata": {},
   "outputs": [],
   "source": [
    "pickle.dump(xbgc, open('modelXGBC.pkl', 'wb'))"
   ]
  },
  {
   "cell_type": "code",
   "execution_count": 43,
   "id": "6d7e1c87",
   "metadata": {},
   "outputs": [
    {
     "data": {
      "text/plain": [
       "0.8003138485680659"
      ]
     },
     "execution_count": 43,
     "metadata": {},
     "output_type": "execute_result"
    }
   ],
   "source": [
    "pickled_model = pickle.load(open('modelXGBC.pkl', 'rb'))\n",
    "predicted = pickled_model.predict(X_test)\n",
    "accuracy_score(y_test, predicted) #mismo resultado"
   ]
  }
 ],
 "metadata": {
  "kernelspec": {
   "display_name": "Python 3 (ipykernel)",
   "language": "python",
   "name": "python3"
  },
  "language_info": {
   "codemirror_mode": {
    "name": "ipython",
    "version": 3
   },
   "file_extension": ".py",
   "mimetype": "text/x-python",
   "name": "python",
   "nbconvert_exporter": "python",
   "pygments_lexer": "ipython3",
   "version": "3.8.16"
  }
 },
 "nbformat": 4,
 "nbformat_minor": 5
}
